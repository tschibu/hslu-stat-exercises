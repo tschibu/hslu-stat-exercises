{
 "cells": [
  {
   "cell_type": "code",
   "execution_count": 10,
   "metadata": {},
   "outputs": [
    {
     "data": {
      "text/plain": [
       "19.0"
      ]
     },
     "execution_count": 10,
     "metadata": {},
     "output_type": "execute_result"
    }
   ],
   "source": [
    "import scipy.stats as st\n",
    "import numpy as np\n",
    "\n",
    "count=50\n",
    "\n",
    "st.binom.ppf(0.05, n=count, p=0.5)"
   ]
  },
  {
   "cell_type": "code",
   "execution_count": 11,
   "metadata": {},
   "outputs": [
    {
     "data": {
      "text/plain": [
       "0.059460226279718184"
      ]
     },
     "execution_count": 11,
     "metadata": {},
     "output_type": "execute_result"
    }
   ],
   "source": [
    "st.binom.cdf(19, n=count, p=0.5)"
   ]
  },
  {
   "cell_type": "code",
   "execution_count": 13,
   "metadata": {},
   "outputs": [
    {
     "data": {
      "text/plain": [
       "0.032454323536136094"
      ]
     },
     "execution_count": 13,
     "metadata": {},
     "output_type": "execute_result"
    }
   ],
   "source": [
    "st.binom.cdf(18, n=count, p=0.5)"
   ]
  },
  {
   "cell_type": "code",
   "execution_count": 9,
   "metadata": {},
   "outputs": [
    {
     "data": {
      "text/plain": [
       "0.03125"
      ]
     },
     "execution_count": 9,
     "metadata": {},
     "output_type": "execute_result"
    }
   ],
   "source": [
    "st.binom.cdf(0.975, n=count, p=0.5)"
   ]
  },
  {
   "cell_type": "markdown",
   "metadata": {},
   "source": [
    "## Übung im Unterricht"
   ]
  },
  {
   "cell_type": "code",
   "execution_count": 42,
   "metadata": {},
   "outputs": [],
   "source": [
    "import scipy.stats as st\n",
    "import numpy as np\n",
    "from pandas import Series, DataFrame\n",
    "\n",
    "values = Series([71, 69, 67, 68, 73, 72, 71, 71, 68, 72, 69, 72])\n",
    "countVino = 12"
   ]
  },
  {
   "cell_type": "markdown",
   "metadata": {},
   "source": [
    "$ \\mathcal{Ho} $  : $ \\mu $ = 70 (=Medium)\n",
    "\n",
    "V = 7"
   ]
  },
  {
   "cell_type": "code",
   "execution_count": 36,
   "metadata": {},
   "outputs": [
    {
     "data": {
      "text/plain": [
       "0.6127929687499998"
      ]
     },
     "execution_count": 36,
     "metadata": {},
     "output_type": "execute_result"
    }
   ],
   "source": [
    "# 5 = 5 Weine sind unter der 70 Zentiliter\n",
    "st.binom.cdf(6, n=countVino, p=0.5)\n",
    "# ==> "
   ]
  },
  {
   "cell_type": "code",
   "execution_count": 37,
   "metadata": {},
   "outputs": [
    {
     "data": {
      "text/plain": [
       "0.6127929687499998"
      ]
     },
     "execution_count": 37,
     "metadata": {},
     "output_type": "execute_result"
    }
   ],
   "source": [
    "1 - st.binom.cdf(5, n=countVino, p=0.5)"
   ]
  },
  {
   "cell_type": "code",
   "execution_count": 40,
   "metadata": {},
   "outputs": [
    {
     "data": {
      "text/plain": [
       "0.7744140625000003"
      ]
     },
     "execution_count": 40,
     "metadata": {},
     "output_type": "execute_result"
    }
   ],
   "source": [
    "st.binom_test(x=7, n=countVino, p=0.5)"
   ]
  },
  {
   "cell_type": "markdown",
   "metadata": {},
   "source": [
    "### Lösung:\n",
    "\n",
    "/2 = weil wir nur ein binom_test zweiseitige Verwerfungsintervall erhalte"
   ]
  },
  {
   "cell_type": "code",
   "execution_count": 47,
   "metadata": {},
   "outputs": [
    {
     "data": {
      "text/plain": [
       "0.80615234375"
      ]
     },
     "execution_count": 47,
     "metadata": {},
     "output_type": "execute_result"
    }
   ],
   "source": [
    "st.binom_test(x=7, n=countVino, p=0.5, alternative='less')"
   ]
  },
  {
   "cell_type": "code",
   "execution_count": 49,
   "metadata": {},
   "outputs": [
    {
     "data": {
      "text/plain": [
       "0.38720703125000017"
      ]
     },
     "execution_count": 49,
     "metadata": {},
     "output_type": "execute_result"
    }
   ],
   "source": [
    "st.binom_test(x=7, n=countVino, p=0.5, alternative='greater')"
   ]
  },
  {
   "cell_type": "code",
   "execution_count": 54,
   "metadata": {},
   "outputs": [
    {
     "data": {
      "text/plain": [
       "0.7744140625000003"
      ]
     },
     "execution_count": 54,
     "metadata": {},
     "output_type": "execute_result"
    }
   ],
   "source": [
    "st.binom_test(x=7, n=countVino, p=0.5, alternative='two-sided')"
   ]
  },
  {
   "cell_type": "code",
   "execution_count": 58,
   "metadata": {},
   "outputs": [
    {
     "data": {
      "text/plain": [
       "0.38720703125000017"
      ]
     },
     "execution_count": 58,
     "metadata": {},
     "output_type": "execute_result"
    }
   ],
   "source": [
    "st.binom_test(x=7, n=countVino, p=0.5, alternative='two-sided')/2"
   ]
  },
  {
   "cell_type": "markdown",
   "metadata": {},
   "source": [
    "# Wilcoxon-Test"
   ]
  },
  {
   "cell_type": "markdown",
   "metadata": {},
   "source": [
    "Ein Weinhändler behauptet, dass die von ihm gefüllten Weinflaschen 70\n",
    "\n",
    "Zentiliter enthalten. Ein skeptischer Konsument vermutet aber, dass der Weinhändler\n",
    "zu wenig Wein abfüllt und will diese Behauptung überprüfen. Deshalb kauft er 12\n",
    "Weinflaschen und misst ihren Inhalt. Er findet:\n",
    "\n",
    "71, 69, 67, 68, 73, 72, 71, 71, 68, 72, 69, 72 (in Zentiliter)\n",
    "\n",
    "Führen Sie einen Wilcoxoen-Test durch. Wie lautet der P-Wert?\n",
    "\n",
    "$ \\mathcal{Ho} $  : $ \\mu o $ = 70\n",
    "\n",
    "Somit die differenz zu $ \\mu $\n",
    "[1, -1, -3, -2, 3, 2, 1, 1, -2, 2, -1, 2]"
   ]
  },
  {
   "cell_type": "code",
   "execution_count": 68,
   "metadata": {},
   "outputs": [
    {
     "data": {
      "text/plain": [
       "WilcoxonResult(statistic=33.5, pvalue=0.6902117434795202)"
      ]
     },
     "execution_count": 68,
     "metadata": {},
     "output_type": "execute_result"
    }
   ],
   "source": [
    "x = np.array([1, -1, -3, -2, 3, 2, 1, 1, -2, 2, -1, 2])\n",
    "st.wilcoxon(x, correction=True)"
   ]
  },
  {
   "cell_type": "markdown",
   "metadata": {},
   "source": [
    "## Lösung\n",
    "mit Series"
   ]
  },
  {
   "cell_type": "code",
   "execution_count": 77,
   "metadata": {},
   "outputs": [
    {
     "data": {
      "text/plain": [
       "WilcoxonResult(statistic=33.5, pvalue=0.6902117434795202)"
      ]
     },
     "execution_count": 77,
     "metadata": {},
     "output_type": "execute_result"
    }
   ],
   "source": [
    "mu = 70\n",
    "values = Series([71, 69, 67, 68, 73, 72, 71, 71, 68, 72, 69, 72])\n",
    "st.wilcoxon(values-70, zero_method='wilcox', correction=True)"
   ]
  },
  {
   "cell_type": "code",
   "execution_count": 83,
   "metadata": {},
   "outputs": [
    {
     "data": {
      "text/plain": [
       "WilcoxonResult(statistic=33.5, pvalue=0.6610785875827888)"
      ]
     },
     "execution_count": 83,
     "metadata": {},
     "output_type": "execute_result"
    }
   ],
   "source": [
    "st.wilcoxon(values-70, zero_method='wilcox')\n",
    "## => Effektive Lösung!"
   ]
  },
  {
   "cell_type": "code",
   "execution_count": 79,
   "metadata": {},
   "outputs": [
    {
     "name": "stdout",
     "output_type": "stream",
     "text": [
      "0.6548941282602398\n",
      "0.6694607062086055\n"
     ]
    }
   ],
   "source": [
    "print(1 - 0.6902117434795202/2)\n",
    "print(1 - 0.6610785875827888/2)"
   ]
  }
 ],
 "metadata": {
  "kernelspec": {
   "display_name": "Python 3",
   "language": "python",
   "name": "python3"
  },
  "language_info": {
   "codemirror_mode": {
    "name": "ipython",
    "version": 3
   },
   "file_extension": ".py",
   "mimetype": "text/x-python",
   "name": "python",
   "nbconvert_exporter": "python",
   "pygments_lexer": "ipython3",
   "version": "3.6.4"
  }
 },
 "nbformat": 4,
 "nbformat_minor": 2
}
