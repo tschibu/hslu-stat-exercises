{
 "cells": [
  {
   "cell_type": "code",
   "execution_count": 49,
   "metadata": {},
   "outputs": [
    {
     "name": "stdout",
     "output_type": "stream",
     "text": [
      "0.7181485691746134\n",
      "69.28185143082538\n",
      "69.28775748677653\n",
      "-1.6448536269514729\n"
     ]
    }
   ],
   "source": [
    "import numpy as np\n",
    "from scipy.stats import uniform, norm\n",
    "from pandas import Series, DataFrame\n",
    "\n",
    "values = Series([71, 69, 67, 68, 73, 72, 71, 71, 68, 72, 69, 72])\n",
    "# print(values.describe())\n",
    "mean = np.mean(values)\n",
    "sigma=1.5\n",
    "\n",
    "scale=sigma/np.sqrt(values.size)\n",
    "\n",
    "test = norm.cdf(x=values.mean(), loc=70, scale=scale)\n",
    "print(test)\n",
    "print(70-test)\n",
    "\n",
    "\n",
    "## Lösung\n",
    "print(norm.ppf(q=0.05, loc=70, scale=scale))\n",
    "\n",
    "## Lösung\n",
    "print(norm.ppf(q=0.05))\n"
   ]
  },
  {
   "cell_type": "code",
   "execution_count": null,
   "metadata": {},
   "outputs": [],
   "source": []
  },
  {
   "cell_type": "markdown",
   "metadata": {},
   "source": [
    "in welche Richtung?\n",
    "--> nach Links - da meine Vermutung kleiner ist\n",
    "\n"
   ]
  },
  {
   "cell_type": "code",
   "execution_count": 50,
   "metadata": {},
   "outputs": [
    {
     "data": {
      "text/plain": [
       "-1.7958848187036696"
      ]
     },
     "execution_count": 50,
     "metadata": {},
     "output_type": "execute_result"
    }
   ],
   "source": [
    "from scipy.stats import uniform, expon, norm, t\n",
    "# 6.2\n",
    "t.ppf(q=0.05, df=11, loc=70, scale=1.9598237397554624/np.sqrt(12))\n",
    "\n",
    "# Standartisiert\n",
    "t.ppf(q=0.05, df=11)\n",
    "\n"
   ]
  }
 ],
 "metadata": {
  "kernelspec": {
   "display_name": "Python 3",
   "language": "python",
   "name": "python3"
  },
  "language_info": {
   "codemirror_mode": {
    "name": "ipython",
    "version": 3
   },
   "file_extension": ".py",
   "mimetype": "text/x-python",
   "name": "python",
   "nbconvert_exporter": "python",
   "pygments_lexer": "ipython3",
   "version": "3.6.4"
  }
 },
 "nbformat": 4,
 "nbformat_minor": 2
}
