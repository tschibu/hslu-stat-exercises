{
 "cells": [
  {
   "cell_type": "code",
   "execution_count": 1,
   "metadata": {},
   "outputs": [],
   "source": [
    "from pandas import DataFrame\n",
    "import pandas as pd\n",
    "import numpy as np\n",
    "import seaborn as sns\n",
    "import scipy.stats as st\n",
    "\n",
    "from statsmodels.formula.api import ols\n",
    "from statsmodels.stats.anova import anova_lm\n",
    "from statsmodels.graphics.factorplots import interaction_plot\n",
    "\n",
    "import matplotlib.pyplot as plt"
   ]
  },
  {
   "cell_type": "code",
   "execution_count": 2,
   "metadata": {},
   "outputs": [
    {
     "data": {
      "image/png": "[encoded data removed]",
      "text/plain": [
       "<matplotlib.figure.Figure at 0x1a0b598080>"
      ]
     },
     "metadata": {},
     "output_type": "display_data"
    }
   ],
   "source": [
    "Daten = DataFrame({\n",
    "    \"Batch\": np.tile([\"1\", \"2\", \"3\", \"4\", \"5\", \"6\"], 4),\n",
    "    \"Methode\": np.repeat([\"8500\", \"8700\", \"8900\", \"9100\"], 6),\n",
    "    \"Y\": np.array([90.3, 89.2, 98.2, 93.9, 87.4, 97.9, 92.5, 89.5, 90.6, 94.7, 87, 95.8,85.5, 90.8, 89.6, 86.2, 88, 93.4, 82.5, 89.5, 85.6, 87.4, 78.9, 90.7]) })\n",
    "\n",
    "interaction_plot(x=Daten[\"Batch\"], trace=Daten[\"Methode\"], response=Daten[\"Y\"])\n",
    "plt.ylabel(\"Daten Y\")\n",
    "plt.show()"
   ]
  },
  {
   "cell_type": "markdown",
   "metadata": {},
   "source": [
    "(Oben) - Das ist die Realität.\n",
    "\n",
    "#### Schlussfolgerung (Interpretation):\n",
    "     (Frage: Gibt es einen Signifikaten Unterschied?)\n",
    "\n",
    "Ansatzweise gibt es einen Ansatz, dass es ein Unterschied gibt .. aber nicht klar"
   ]
  },
  {
   "cell_type": "code",
   "execution_count": 5,
   "metadata": {},
   "outputs": [
    {
     "data": {
      "text/plain": [
       "Intercept                  89.795833\n",
       "C(Methode, Sum)[S.8500]     3.020833\n",
       "C(Methode, Sum)[S.8700]     1.887500\n",
       "C(Methode, Sum)[S.8900]    -0.879167\n",
       "C(Batch, Sum)[S.1]         -2.095833\n",
       "C(Batch, Sum)[S.2]         -0.045833\n",
       "C(Batch, Sum)[S.3]          1.204167\n",
       "C(Batch, Sum)[S.4]          0.754167\n",
       "C(Batch, Sum)[S.5]         -4.470833\n",
       "dtype: float64"
      ]
     },
     "execution_count": 5,
     "metadata": {},
     "output_type": "execute_result"
    }
   ],
   "source": [
    "from patsy.contrasts import Sum\n",
    "fit = ols(\"Y ~ C(Methode, Sum)+C(Batch,Sum)\", data=Daten).fit()\n",
    "fit.params"
   ]
  },
  {
   "cell_type": "markdown",
   "metadata": {},
   "source": [
    "$ (3.020833+.887500+-0.879167+x) = 0 $\n",
    "\n",
    "$ x = -3.02917 $ "
   ]
  },
  {
   "cell_type": "code",
   "execution_count": 10,
   "metadata": {},
   "outputs": [
    {
     "name": "stderr",
     "output_type": "stream",
     "text": [
      "/Users/tluscre1/Applications/anaconda3/lib/python3.6/site-packages/scipy/stats/_distn_infrastructure.py:879: RuntimeWarning: invalid value encountered in greater\n",
      "  return (self.a < x) & (x < self.b)\n",
      "/Users/tluscre1/Applications/anaconda3/lib/python3.6/site-packages/scipy/stats/_distn_infrastructure.py:879: RuntimeWarning: invalid value encountered in less\n",
      "  return (self.a < x) & (x < self.b)\n",
      "/Users/tluscre1/Applications/anaconda3/lib/python3.6/site-packages/scipy/stats/_distn_infrastructure.py:1821: RuntimeWarning: invalid value encountered in less_equal\n",
      "  cond2 = cond0 & (x <= self.a)\n"
     ]
    },
    {
     "data": {
      "text/html": [
       "<div>\n",
       "<style scoped>\n",
       "    .dataframe tbody tr th:only-of-type {\n",
       "        vertical-align: middle;\n",
       "    }\n",
       "\n",
       "    .dataframe tbody tr th {\n",
       "        vertical-align: top;\n",
       "    }\n",
       "\n",
       "    .dataframe thead th {\n",
       "        text-align: right;\n",
       "    }\n",
       "</style>\n",
       "<table border=\"1\" class=\"dataframe\">\n",
       "  <thead>\n",
       "    <tr style=\"text-align: right;\">\n",
       "      <th></th>\n",
       "      <th>df</th>\n",
       "      <th>sum_sq</th>\n",
       "      <th>mean_sq</th>\n",
       "      <th>F</th>\n",
       "      <th>PR(&gt;F)</th>\n",
       "    </tr>\n",
       "  </thead>\n",
       "  <tbody>\n",
       "    <tr>\n",
       "      <th>C(Methode, Sum)</th>\n",
       "      <td>3.0</td>\n",
       "      <td>178.171250</td>\n",
       "      <td>59.390417</td>\n",
       "      <td>8.107077</td>\n",
       "      <td>0.001916</td>\n",
       "    </tr>\n",
       "    <tr>\n",
       "      <th>C(Batch, Sum)</th>\n",
       "      <td>5.0</td>\n",
       "      <td>192.252083</td>\n",
       "      <td>38.450417</td>\n",
       "      <td>5.248666</td>\n",
       "      <td>0.005532</td>\n",
       "    </tr>\n",
       "    <tr>\n",
       "      <th>Residual</th>\n",
       "      <td>15.0</td>\n",
       "      <td>109.886250</td>\n",
       "      <td>7.325750</td>\n",
       "      <td>NaN</td>\n",
       "      <td>NaN</td>\n",
       "    </tr>\n",
       "  </tbody>\n",
       "</table>\n",
       "</div>"
      ],
      "text/plain": [
       "                   df      sum_sq    mean_sq         F    PR(>F)\n",
       "C(Methode, Sum)   3.0  178.171250  59.390417  8.107077  0.001916\n",
       "C(Batch, Sum)     5.0  192.252083  38.450417  5.248666  0.005532\n",
       "Residual         15.0  109.886250   7.325750       NaN       NaN"
      ]
     },
     "execution_count": 10,
     "metadata": {},
     "output_type": "execute_result"
    }
   ],
   "source": [
    "fit = ols(\"Y ~ C(Methode, Sum)+C(Batch, Sum)\", data=Daten).fit()\n",
    "anova_lm(fit)"
   ]
  },
  {
   "cell_type": "code",
   "execution_count": 12,
   "metadata": {},
   "outputs": [
    {
     "name": "stderr",
     "output_type": "stream",
     "text": [
      "/Users/tluscre1/Applications/anaconda3/lib/python3.6/site-packages/scipy/stats/_distn_infrastructure.py:879: RuntimeWarning: invalid value encountered in greater\n",
      "  return (self.a < x) & (x < self.b)\n",
      "/Users/tluscre1/Applications/anaconda3/lib/python3.6/site-packages/scipy/stats/_distn_infrastructure.py:879: RuntimeWarning: invalid value encountered in less\n",
      "  return (self.a < x) & (x < self.b)\n",
      "/Users/tluscre1/Applications/anaconda3/lib/python3.6/site-packages/scipy/stats/_distn_infrastructure.py:1821: RuntimeWarning: invalid value encountered in less_equal\n",
      "  cond2 = cond0 & (x <= self.a)\n"
     ]
    },
    {
     "data": {
      "text/html": [
       "<div>\n",
       "<style scoped>\n",
       "    .dataframe tbody tr th:only-of-type {\n",
       "        vertical-align: middle;\n",
       "    }\n",
       "\n",
       "    .dataframe tbody tr th {\n",
       "        vertical-align: top;\n",
       "    }\n",
       "\n",
       "    .dataframe thead th {\n",
       "        text-align: right;\n",
       "    }\n",
       "</style>\n",
       "<table border=\"1\" class=\"dataframe\">\n",
       "  <thead>\n",
       "    <tr style=\"text-align: right;\">\n",
       "      <th></th>\n",
       "      <th>df</th>\n",
       "      <th>sum_sq</th>\n",
       "      <th>mean_sq</th>\n",
       "      <th>F</th>\n",
       "      <th>PR(&gt;F)</th>\n",
       "    </tr>\n",
       "  </thead>\n",
       "  <tbody>\n",
       "    <tr>\n",
       "      <th>C(Methode, Sum)</th>\n",
       "      <td>3.0</td>\n",
       "      <td>178.171250</td>\n",
       "      <td>59.390417</td>\n",
       "      <td>3.931339</td>\n",
       "      <td>0.023448</td>\n",
       "    </tr>\n",
       "    <tr>\n",
       "      <th>Residual</th>\n",
       "      <td>20.0</td>\n",
       "      <td>302.138333</td>\n",
       "      <td>15.106917</td>\n",
       "      <td>NaN</td>\n",
       "      <td>NaN</td>\n",
       "    </tr>\n",
       "  </tbody>\n",
       "</table>\n",
       "</div>"
      ],
      "text/plain": [
       "                   df      sum_sq    mean_sq         F    PR(>F)\n",
       "C(Methode, Sum)   3.0  178.171250  59.390417  3.931339  0.023448\n",
       "Residual         20.0  302.138333  15.106917       NaN       NaN"
      ]
     },
     "execution_count": 12,
     "metadata": {},
     "output_type": "execute_result"
    }
   ],
   "source": [
    "fit = ols(\"Y ~ C(Methode, Sum)\", data=Daten).fit()\n",
    "anova_lm(fit)"
   ]
  },
  {
   "cell_type": "markdown",
   "metadata": {},
   "source": [
    "# Faktorielle Experimente mit zwei Faktoren"
   ]
  },
  {
   "cell_type": "code",
   "execution_count": 13,
   "metadata": {},
   "outputs": [
    {
     "data": {
      "image/png": "[encoded data removed]",
      "text/plain": [
       "<matplotlib.figure.Figure at 0x1a14834278>"
      ]
     },
     "metadata": {},
     "output_type": "display_data"
    }
   ],
   "source": [
    "Farbe = DataFrame({\n",
    "    \"Grund\": np.repeat([\"A\", \"B\", \"C\"], 6),\n",
    "    \"Methode\": np.tile(np.repeat([\"Eintauchen\", \"Besprühen\"], 3), 3),\n",
    "    \"Y\": np.array([4, 4.5, 4.3, 5.4, 4.9, 5.6, 5.6, 4.9, 5.4, 5.8, 6.1, 6.3, 3.8, 3.7, 4, 5.5, 5, 5])\n",
    "})\n",
    "\n",
    "interaction_plot(x=Farbe[\"Grund\"], trace=Farbe[\"Methode\"], response=Farbe[\"Y\"])\n",
    "\n",
    "plt.xlabel(\"Grundierungstypen\")\n",
    "plt.ylabel(\"Mittelwerte Haltungsfestigkeit\")\n",
    "plt.show()\n"
   ]
  },
  {
   "cell_type": "markdown",
   "metadata": {},
   "source": [
    "## Elritzen"
   ]
  },
  {
   "cell_type": "code",
   "execution_count": 17,
   "metadata": {},
   "outputs": [
    {
     "data": {
      "image/png": "[encoded data removed]",
      "text/plain": [
       "<matplotlib.figure.Figure at 0x1a1430c668>"
      ]
     },
     "metadata": {},
     "output_type": "display_data"
    }
   ],
   "source": [
    "El = DataFrame({\n",
    "    \"Konz\": np.repeat([\"A\", \"B\", \"C\",\"D\"], 6),\n",
    "    \"Temp\": np.tile(np.repeat([\"15C\", \"25C\"],3),4),\n",
    "    \"Y\": np.array([82, 46, 16, 20, 13, 7, 20, 14, 17, 6, 7, 5, 8, 6, 5, 4, 3, 5, 10, 7, 5, 6, 4, 5])\n",
    "})\n",
    "\n",
    "interaction_plot(x=El[\"Konz\"], trace=El[\"Temp\"], response=El[\"Y\"], legendtitle=\"Methode\")\n",
    "\n",
    "plt.xlabel(\"Cyanid-Konzentration\")\n",
    "plt.ylabel(\"Mediane Experimente\")\n",
    "\n",
    "plt.show()"
   ]
  },
  {
   "cell_type": "code",
   "execution_count": 21,
   "metadata": {},
   "outputs": [
    {
     "data": {
      "text/plain": [
       "Intercept                                13.375000\n",
       "C(Konz, Sum)[S.A]                        17.291667\n",
       "C(Konz, Sum)[S.B]                        -1.875000\n",
       "C(Konz, Sum)[S.C]                        -8.208333\n",
       "C(Temp, Sum)[S.15C]                       6.291667\n",
       "C(Konz, Sum)[S.A]:C(Temp, Sum)[S.15C]    11.041667\n",
       "C(Konz, Sum)[S.B]:C(Temp, Sum)[S.15C]    -0.791667\n",
       "C(Konz, Sum)[S.C]:C(Temp, Sum)[S.15C]    -5.125000\n",
       "dtype: float64"
      ]
     },
     "execution_count": 21,
     "metadata": {},
     "output_type": "execute_result"
    }
   ],
   "source": [
    "fit = ols(\"Y~C(Konz,Sum)*C(Temp,Sum)\",data=El).fit()\n",
    "fit.params"
   ]
  },
  {
   "cell_type": "code",
   "execution_count": 22,
   "metadata": {},
   "outputs": [
    {
     "name": "stderr",
     "output_type": "stream",
     "text": [
      "/Users/tluscre1/Applications/anaconda3/lib/python3.6/site-packages/scipy/stats/_distn_infrastructure.py:879: RuntimeWarning: invalid value encountered in greater\n",
      "  return (self.a < x) & (x < self.b)\n",
      "/Users/tluscre1/Applications/anaconda3/lib/python3.6/site-packages/scipy/stats/_distn_infrastructure.py:879: RuntimeWarning: invalid value encountered in less\n",
      "  return (self.a < x) & (x < self.b)\n",
      "/Users/tluscre1/Applications/anaconda3/lib/python3.6/site-packages/scipy/stats/_distn_infrastructure.py:1821: RuntimeWarning: invalid value encountered in less_equal\n",
      "  cond2 = cond0 & (x <= self.a)\n"
     ]
    },
    {
     "data": {
      "text/html": [
       "<div>\n",
       "<style scoped>\n",
       "    .dataframe tbody tr th:only-of-type {\n",
       "        vertical-align: middle;\n",
       "    }\n",
       "\n",
       "    .dataframe tbody tr th {\n",
       "        vertical-align: top;\n",
       "    }\n",
       "\n",
       "    .dataframe thead th {\n",
       "        text-align: right;\n",
       "    }\n",
       "</style>\n",
       "<table border=\"1\" class=\"dataframe\">\n",
       "  <thead>\n",
       "    <tr style=\"text-align: right;\">\n",
       "      <th></th>\n",
       "      <th>df</th>\n",
       "      <th>sum_sq</th>\n",
       "      <th>mean_sq</th>\n",
       "      <th>F</th>\n",
       "      <th>PR(&gt;F)</th>\n",
       "    </tr>\n",
       "  </thead>\n",
       "  <tbody>\n",
       "    <tr>\n",
       "      <th>C(Konz, Sum)</th>\n",
       "      <td>3.0</td>\n",
       "      <td>2531.125000</td>\n",
       "      <td>843.708333</td>\n",
       "      <td>5.843867</td>\n",
       "      <td>0.006803</td>\n",
       "    </tr>\n",
       "    <tr>\n",
       "      <th>C(Temp, Sum)</th>\n",
       "      <td>1.0</td>\n",
       "      <td>950.041667</td>\n",
       "      <td>950.041667</td>\n",
       "      <td>6.580375</td>\n",
       "      <td>0.020754</td>\n",
       "    </tr>\n",
       "    <tr>\n",
       "      <th>C(Konz, Sum):C(Temp, Sum)</th>\n",
       "      <td>3.0</td>\n",
       "      <td>1050.458333</td>\n",
       "      <td>350.152778</td>\n",
       "      <td>2.425301</td>\n",
       "      <td>0.103439</td>\n",
       "    </tr>\n",
       "    <tr>\n",
       "      <th>Residual</th>\n",
       "      <td>16.0</td>\n",
       "      <td>2310.000000</td>\n",
       "      <td>144.375000</td>\n",
       "      <td>NaN</td>\n",
       "      <td>NaN</td>\n",
       "    </tr>\n",
       "  </tbody>\n",
       "</table>\n",
       "</div>"
      ],
      "text/plain": [
       "                             df       sum_sq     mean_sq         F    PR(>F)\n",
       "C(Konz, Sum)                3.0  2531.125000  843.708333  5.843867  0.006803\n",
       "C(Temp, Sum)                1.0   950.041667  950.041667  6.580375  0.020754\n",
       "C(Konz, Sum):C(Temp, Sum)   3.0  1050.458333  350.152778  2.425301  0.103439\n",
       "Residual                   16.0  2310.000000  144.375000       NaN       NaN"
      ]
     },
     "execution_count": 22,
     "metadata": {},
     "output_type": "execute_result"
    }
   ],
   "source": [
    "anova_lm(fit)"
   ]
  }
 ],
 "metadata": {
  "kernelspec": {
   "display_name": "Python 3",
   "language": "python",
   "name": "python3"
  },
  "language_info": {
   "codemirror_mode": {
    "name": "ipython",
    "version": 3
   },
   "file_extension": ".py",
   "mimetype": "text/x-python",
   "name": "python",
   "nbconvert_exporter": "python",
   "pygments_lexer": "ipython3",
   "version": "3.5.6"
  }
 },
 "nbformat": 4,
 "nbformat_minor": 2
}
