{
 "cells": [
  {
   "cell_type": "markdown",
   "metadata": {},
   "source": [
    "# Simulationsbeispiel\n"
   ]
  },
  {
   "cell_type": "markdown",
   "metadata": {},
   "source": [
    "Wir wollen hier den Zentralen Grenzwertsatz noch an einem Beispiel veranschaulichen. Dabei untersuchen wir das Verhalten von $ \\overline{X}_{n} $. Wir haben eine Ergebnismenge\n",
    "$\n",
    "\\Omega\n",
    "=\\{0,10,11\\}\n",
    "$\n",
    "aus der wir eine Zahl ziehen. Die Zufallsvariable $ X $ gibt den Wert der gezogenen Zahl an. \n",
    "\n",
    "Zudem gilt\n",
    "$\n",
    "P(X=0)\n",
    "=P(X=10)\n",
    "=P(X=11)\n",
    "=\\dfrac{1}{3}\n",
    "$\n",
    "\n",
    "Damit gilt für den Erwartungswert von $ X $: \n",
    "$\n",
    "\\textrm{E}(X)\n",
    "=\\dfrac{1}{3}\\cdot 0+\\dfrac{1}{3}\\cdot 10+\\dfrac{1}{3}\\cdot 11\n",
    "=7\n",
    "$"
   ]
  },
  {
   "cell_type": "code",
   "execution_count": 1,
   "metadata": {},
   "outputs": [
    {
     "name": "stdout",
     "output_type": "stream",
     "text": [
      "7.0\n"
     ]
    }
   ],
   "source": [
    "import numpy as np\n",
    "werte = np.array([0,10,11])\n",
    "ew = np.sum(werte*1/3)\n",
    "ew\n",
    "print(ew)"
   ]
  },
  {
   "cell_type": "markdown",
   "metadata": {},
   "source": [
    "für die Varianz gilt dann \n",
    "$\n",
    "\\textrm{Var}(X)\n",
    "=\\dfrac{1}{3}\\cdot (0-7)^{2}+\\dfrac{1}{3}\\cdot (10-7)^{2}+\\dfrac{1}{3}\\cdot (11-7)^{2}\n",
    "=24.667\n",
    "$"
   ]
  },
  {
   "cell_type": "code",
   "execution_count": 2,
   "metadata": {},
   "outputs": [
    {
     "name": "stdout",
     "output_type": "stream",
     "text": [
      "24.666666666666664\n"
     ]
    }
   ],
   "source": [
    "import numpy as np\n",
    "werte = np.array([0,10,11])\n",
    "ew = np.sum(werte*1/3)\n",
    "var_X = np.sum((werte-ew)**2*1/3)\n",
    "var_X\n",
    "print(var_X)"
   ]
  },
  {
   "cell_type": "markdown",
   "metadata": {},
   "source": [
    "mit der Standardabweichung"
   ]
  },
  {
   "cell_type": "code",
   "execution_count": 3,
   "metadata": {},
   "outputs": [
    {
     "name": "stdout",
     "output_type": "stream",
     "text": [
      "4.96655480858378\n"
     ]
    }
   ],
   "source": [
    "import numpy as np\n",
    "werte = np.array([0,10,11])\n",
    "ew = np.sum(werte*1/3)\n",
    "var_X = np.sum((werte-ew)**2*1/3)\n",
    "sd_X = np.sqrt(var_X)\n",
    "print(sd_X)"
   ]
  },
  {
   "cell_type": "markdown",
   "metadata": {},
   "source": [
    "Wir beginnen mit einem Versuch (10 Ziehungen)"
   ]
  },
  {
   "cell_type": "code",
   "execution_count": 57,
   "metadata": {},
   "outputs": [
    {
     "name": "stdout",
     "output_type": "stream",
     "text": [
      "[11 11 10  0  0  0  0 11  0 10]\n"
     ]
    }
   ],
   "source": [
    "import numpy as np\n",
    "werte = np.array([0,10,11])\n",
    "# np.random.seed(100)\n",
    "sim = np.random.choice(werte, size=10, replace = True)\n",
    "sim\n",
    "print(sim)"
   ]
  },
  {
   "cell_type": "markdown",
   "metadata": {},
   "source": [
    "Diese Daten stellen wir noch als Histogramm dar"
   ]
  },
  {
   "cell_type": "code",
   "execution_count": 77,
   "metadata": {},
   "outputs": [
    {
     "data": {
      "text/plain": [
       "(array([1., 0., 0., 0., 0., 0., 0., 0., 0., 0., 5., 4.]),\n",
       " array([ 0,  1,  2,  3,  4,  5,  6,  7,  8,  9, 10, 11, 12]),\n",
       " <a list of 12 Patch objects>)"
      ]
     },
     "execution_count": 77,
     "metadata": {},
     "output_type": "execute_result"
    },
    {
     "data": {
      "image/png": "[encoded data removed]",
      "text/plain": [
       "<matplotlib.figure.Figure at 0x11d92c5c0>"
      ]
     },
     "metadata": {},
     "output_type": "display_data"
    }
   ],
   "source": [
    "import matplotlib\n",
    "import numpy as np\n",
    "import matplotlib.pyplot as plt\n",
    "%matplotlib inline  \n",
    "werte = np.array([0,10,11])\n",
    "# np.random.seed(100)\n",
    "sim = np.random.choice(werte, size=10, replace = True)\n",
    "plt.hist(sim, bins=range(0,13,1), edgecolor=\"black\")"
   ]
  },
  {
   "cell_type": "markdown",
   "metadata": {},
   "source": [
    "Offensichtlich haben wir es hier mit keiner Normalverteilung zu tun. In diesem Versuch kamen nur die Zahlen 0, 10, 11 vor. Nun können wir zwei solche Versuche (je 10 Ziehungen) hintereinander ausführen und den Durchschnitt aus den beiden Versuchen berechnen."
   ]
  },
  {
   "cell_type": "code",
   "execution_count": 78,
   "metadata": {},
   "outputs": [
    {
     "name": "stdout",
     "output_type": "stream",
     "text": [
      "[11  0 11  0 11 11  0 10  0 11]\n",
      "[11  0 11 11 11 11 10 10 11 10]\n",
      "[11.   0.  11.   5.5 11.  11.   5.  10.   5.5 10.5]\n"
     ]
    },
    {
     "data": {
      "text/plain": [
       "(array([1., 0., 0., 0., 0., 0., 0., 0., 0., 0., 1., 2., 0., 0., 0., 0., 0.,\n",
       "        0., 0., 0., 1., 1., 4.]),\n",
       " array([ 0. ,  0.5,  1. ,  1.5,  2. ,  2.5,  3. ,  3.5,  4. ,  4.5,  5. ,\n",
       "         5.5,  6. ,  6.5,  7. ,  7.5,  8. ,  8.5,  9. ,  9.5, 10. , 10.5,\n",
       "        11. , 11.5]),\n",
       " <a list of 23 Patch objects>)"
      ]
     },
     "execution_count": 78,
     "metadata": {},
     "output_type": "execute_result"
    },
    {
     "data": {
      "image/png": "[encoded data removed]",
      "text/plain": [
       "<matplotlib.figure.Figure at 0x11d92c550>"
      ]
     },
     "metadata": {},
     "output_type": "display_data"
    }
   ],
   "source": [
    "import matplotlib\n",
    "import numpy as np\n",
    "import matplotlib.pyplot as plt\n",
    "%matplotlib inline  \n",
    "werte = np.array([0,10,11])\n",
    "np.random.seed(13)\n",
    "sim_1 = np.random.choice(werte,size=10, replace = True)\n",
    "sim_1\n",
    "print(sim_1)\n",
    "\n",
    "sim_2 = np.random.choice(werte,size=10, replace = True)\n",
    "sim_2\n",
    "print(sim_2)\n",
    "\n",
    "sim_mean_2 = (sim_1+sim_2)/2\n",
    "sim_mean_2\n",
    "print(sim_mean_2)\n",
    "plt.hist(sim_mean_2, bins=np.linspace(0, 11.5, 24), edgecolor=\"black\")"
   ]
  },
  {
   "cell_type": "markdown",
   "metadata": {},
   "source": [
    "Neben den Zahlen $0, 10, 11$ können nun auch noch die Zahlen $5, 5.5$ und $10.5$ vorkommen."
   ]
  },
  {
   "cell_type": "markdown",
   "metadata": {},
   "source": [
    "Wir wollen nun 16, 64, 256 und 1024 solche Versuche durchf\\\"uhren, aber mit jeweils 1000 Ziehungen."
   ]
  },
  {
   "cell_type": "code",
   "execution_count": 79,
   "metadata": {},
   "outputs": [
    {
     "data": {
      "text/plain": [
       "Text(0.5,1,'n=200')"
      ]
     },
     "execution_count": 79,
     "metadata": {},
     "output_type": "execute_result"
    },
    {
     "data": {
      "image/png": "[encoded data removed]",
      "text/plain": [
       "<matplotlib.figure.Figure at 0x11da0b358>"
      ]
     },
     "metadata": {},
     "output_type": "display_data"
    }
   ],
   "source": [
    "import matplotlib\n",
    "import numpy as np\n",
    "import matplotlib.pyplot as plt\n",
    "from scipy.stats import norm\n",
    "%matplotlib inline  \n",
    "\n",
    "\n",
    "plt.subplot(2,2,1)\n",
    "\n",
    "n = 16\n",
    "\n",
    "# es werden 1000*n zufaellige Zahlen aus werte gezogen \n",
    "sim = np.random.choice(werte,1000*n, replace = True)\n",
    "\n",
    "# reshape: Vektor wird in eine n x 1000-Matrix umgewandelt (1000 Spalten)\n",
    "sim = np.reshape(sim, (n,1000))\n",
    "\n",
    "# Mittelwert aller Spalten (axis=0)\n",
    "sim_mean = np.mean(sim, axis=0)\n",
    "\n",
    "# Festlegung der x-Werte: 500 Werte zwischen 2 und 12\n",
    "x = np.linspace(2,12,500)\n",
    "\n",
    "# Berechung der zugehoerigen Funktionswerte\n",
    "y = norm.pdf(x, loc=7, scale=sd_X/np.sqrt(n))\n",
    "\n",
    "plt.plot(x,y,color=\"orange\")\n",
    "\n",
    "#Normierung, dass die Flaeche des Histogrammes 1 ist\n",
    "plt.hist(sim_mean, edgecolor=\"black\", bins=\"auto\", normed=True)\n",
    "plt.title(\"n=16\")\n",
    "\n",
    "plt.subplot(2,2,2)\n",
    "\n",
    "n = 200\n",
    "\n",
    "# es werden 1000*n zufaellige Zahlen aus werte gezogen \n",
    "sim = np.random.choice(werte,1000*n, replace = True)\n",
    "\n",
    "# reshape: Vektor wird in eine n x 1000-Matrix umgewandelt (1000 Spalten)\n",
    "sim = np.reshape(sim, (n,1000))\n",
    "\n",
    "# Mittelwert aller Spalten (axis=0)\n",
    "sim_mean = np.mean(sim, axis=0)\n",
    "\n",
    "# Festlegung der x-Werte: 500 Werte zwischen 2 und 12\n",
    "x = np.linspace(2,12,500)\n",
    "\n",
    "# Berechung der zugehoerigen Funktionswerte\n",
    "y = norm.pdf(x, loc=7, scale=sd_X/np.sqrt(n))\n",
    "\n",
    "plt.plot(x,y,color=\"orange\")\n",
    "\n",
    "#Normierung, dass die Flaeche des Histogrammes 1 ist\n",
    "plt.hist(sim_mean, edgecolor=\"black\", bins=\"auto\", normed=True)\n",
    "plt.title(\"n=200\")\n",
    "\n",
    "\n",
    "\n",
    "\n",
    "\n",
    "\n",
    "\n",
    "\n"
   ]
  },
  {
   "cell_type": "markdown",
   "metadata": {},
   "source": [
    "Was (bei genauerem Hinschauen) auffällt, ist :\n",
    "\n",
    "- die Werte häufen sich um den Erwartungswert 7\n",
    "- die Standardabweichung des Mittelwertes (also der Standardfehler) wird kleiner, und zwar halbiert sie sich etwa beim Vervierfachen der Anzahl Versuche\n",
    "- die Histogramme scheinen einer Normalverteilung zu folgen\n"
   ]
  },
  {
   "cell_type": "code",
   "execution_count": null,
   "metadata": {},
   "outputs": [],
   "source": []
  }
 ],
 "metadata": {
  "kernelspec": {
   "display_name": "Python 3",
   "language": "python",
   "name": "python3"
  },
  "language_info": {
   "codemirror_mode": {
    "name": "ipython",
    "version": 3
   },
   "file_extension": ".py",
   "mimetype": "text/x-python",
   "name": "python",
   "nbconvert_exporter": "python",
   "pygments_lexer": "ipython3",
   "version": "3.6.4"
  }
 },
 "nbformat": 4,
 "nbformat_minor": 2
}
