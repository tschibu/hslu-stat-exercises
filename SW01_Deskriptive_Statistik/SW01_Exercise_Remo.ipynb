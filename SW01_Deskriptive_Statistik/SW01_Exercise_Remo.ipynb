{
 "cells": [
  {
   "cell_type": "markdown",
   "metadata": {},
   "source": [
    "# Serie 1"
   ]
  },
  {
   "cell_type": "markdown",
   "metadata": {},
   "source": [
    "## Aufgabe 1.1 "
   ]
  },
  {
   "cell_type": "markdown",
   "metadata": {},
   "source": [
    "### Aufgabe 1.1 a)"
   ]
  },
  {
   "cell_type": "code",
   "execution_count": 3,
   "metadata": {},
   "outputs": [],
   "source": [
    "from pandas import Series, DataFrame\n",
    "import pandas as pd\n",
    "\n",
    "data = pd.read_csv(\"data/child.csv\", sep=\",\", index_col=0)"
   ]
  },
  {
   "cell_type": "markdown",
   "metadata": {},
   "source": [
    "### Aufgabe 1.1 b)"
   ]
  },
  {
   "cell_type": "code",
   "execution_count": 4,
   "metadata": {},
   "outputs": [
    {
     "data": {
      "text/plain": [
       "(30, 21)"
      ]
     },
     "execution_count": 4,
     "metadata": {},
     "output_type": "execute_result"
    }
   ],
   "source": [
    "# Dimension der Daten.\n",
    "data.shape"
   ]
  },
  {
   "cell_type": "markdown",
   "metadata": {},
   "source": [
    "### Aufgabe 1.1 c)"
   ]
  },
  {
   "cell_type": "code",
   "execution_count": 5,
   "metadata": {},
   "outputs": [
    {
     "data": {
      "text/html": [
       "<div>\n",
       "<style scoped>\n",
       "    .dataframe tbody tr th:only-of-type {\n",
       "        vertical-align: middle;\n",
       "    }\n",
       "\n",
       "    .dataframe tbody tr th {\n",
       "        vertical-align: top;\n",
       "    }\n",
       "\n",
       "    .dataframe thead th {\n",
       "        text-align: right;\n",
       "    }\n",
       "</style>\n",
       "<table border=\"1\" class=\"dataframe\">\n",
       "  <thead>\n",
       "    <tr style=\"text-align: right;\">\n",
       "      <th></th>\n",
       "      <th>Average.disposable.income</th>\n",
       "      <th>Children.in.poor.homes</th>\n",
       "      <th>Educational.Deprivation</th>\n",
       "      <th>Overcrowding</th>\n",
       "      <th>Poor.environmental.conditions</th>\n",
       "      <th>Average.mean.literacy.score</th>\n",
       "      <th>Literacy.inequality</th>\n",
       "      <th>Youth.NEET.rate</th>\n",
       "      <th>Low.birth.weight</th>\n",
       "      <th>Infant.mortality</th>\n",
       "      <th>...</th>\n",
       "      <th>Vaccination.rates..pertussis.</th>\n",
       "      <th>Vaccination.rates.measles.</th>\n",
       "      <th>Physical.activity</th>\n",
       "      <th>Mortality.rates</th>\n",
       "      <th>Suicide.rates</th>\n",
       "      <th>Smoking</th>\n",
       "      <th>Drunkenness</th>\n",
       "      <th>Teenage.births</th>\n",
       "      <th>Bullying</th>\n",
       "      <th>Liking.school</th>\n",
       "    </tr>\n",
       "  </thead>\n",
       "  <tbody>\n",
       "    <tr>\n",
       "      <th>count</th>\n",
       "      <td>30.000000</td>\n",
       "      <td>30.000000</td>\n",
       "      <td>30.000000</td>\n",
       "      <td>26.000000</td>\n",
       "      <td>24.000000</td>\n",
       "      <td>30.000000</td>\n",
       "      <td>30.000000</td>\n",
       "      <td>27.000000</td>\n",
       "      <td>30.000000</td>\n",
       "      <td>30.000000</td>\n",
       "      <td>...</td>\n",
       "      <td>29.000000</td>\n",
       "      <td>29.000000</td>\n",
       "      <td>26.000000</td>\n",
       "      <td>29.000000</td>\n",
       "      <td>29.000000</td>\n",
       "      <td>24.000000</td>\n",
       "      <td>24.000000</td>\n",
       "      <td>30.000000</td>\n",
       "      <td>24.000000</td>\n",
       "      <td>25.00000</td>\n",
       "    </tr>\n",
       "    <tr>\n",
       "      <th>mean</th>\n",
       "      <td>18.847713</td>\n",
       "      <td>12.372193</td>\n",
       "      <td>2.673333</td>\n",
       "      <td>31.950163</td>\n",
       "      <td>25.217498</td>\n",
       "      <td>496.317000</td>\n",
       "      <td>1.665085</td>\n",
       "      <td>7.377778</td>\n",
       "      <td>6.643333</td>\n",
       "      <td>5.446667</td>\n",
       "      <td>...</td>\n",
       "      <td>93.775862</td>\n",
       "      <td>91.517241</td>\n",
       "      <td>20.134615</td>\n",
       "      <td>24.598966</td>\n",
       "      <td>6.856272</td>\n",
       "      <td>16.512500</td>\n",
       "      <td>15.225000</td>\n",
       "      <td>15.500000</td>\n",
       "      <td>10.979167</td>\n",
       "      <td>27.17200</td>\n",
       "    </tr>\n",
       "    <tr>\n",
       "      <th>std</th>\n",
       "      <td>7.597219</td>\n",
       "      <td>5.592696</td>\n",
       "      <td>3.315370</td>\n",
       "      <td>21.132363</td>\n",
       "      <td>7.483096</td>\n",
       "      <td>29.381643</td>\n",
       "      <td>0.067391</td>\n",
       "      <td>6.489656</td>\n",
       "      <td>1.728001</td>\n",
       "      <td>4.506756</td>\n",
       "      <td>...</td>\n",
       "      <td>5.317334</td>\n",
       "      <td>5.909138</td>\n",
       "      <td>6.157983</td>\n",
       "      <td>6.745815</td>\n",
       "      <td>3.204545</td>\n",
       "      <td>4.766852</td>\n",
       "      <td>4.301794</td>\n",
       "      <td>13.967326</td>\n",
       "      <td>5.146462</td>\n",
       "      <td>10.39926</td>\n",
       "    </tr>\n",
       "    <tr>\n",
       "      <th>min</th>\n",
       "      <td>3.839462</td>\n",
       "      <td>2.740000</td>\n",
       "      <td>0.400000</td>\n",
       "      <td>10.326503</td>\n",
       "      <td>10.500000</td>\n",
       "      <td>408.670000</td>\n",
       "      <td>1.475432</td>\n",
       "      <td>1.700000</td>\n",
       "      <td>3.900000</td>\n",
       "      <td>2.300000</td>\n",
       "      <td>...</td>\n",
       "      <td>78.000000</td>\n",
       "      <td>74.000000</td>\n",
       "      <td>13.100000</td>\n",
       "      <td>14.840000</td>\n",
       "      <td>1.263026</td>\n",
       "      <td>8.100000</td>\n",
       "      <td>10.000000</td>\n",
       "      <td>3.700000</td>\n",
       "      <td>4.200000</td>\n",
       "      <td>11.70000</td>\n",
       "    </tr>\n",
       "    <tr>\n",
       "      <th>25%</th>\n",
       "      <td>16.617877</td>\n",
       "      <td>8.901475</td>\n",
       "      <td>1.000000</td>\n",
       "      <td>17.058130</td>\n",
       "      <td>20.153506</td>\n",
       "      <td>482.750000</td>\n",
       "      <td>1.623048</td>\n",
       "      <td>4.550000</td>\n",
       "      <td>5.150000</td>\n",
       "      <td>3.525000</td>\n",
       "      <td>...</td>\n",
       "      <td>91.000000</td>\n",
       "      <td>88.000000</td>\n",
       "      <td>15.800000</td>\n",
       "      <td>21.170000</td>\n",
       "      <td>5.036520</td>\n",
       "      <td>14.625000</td>\n",
       "      <td>11.350000</td>\n",
       "      <td>7.050000</td>\n",
       "      <td>7.975000</td>\n",
       "      <td>21.40000</td>\n",
       "    </tr>\n",
       "    <tr>\n",
       "      <th>50%</th>\n",
       "      <td>21.107187</td>\n",
       "      <td>11.659053</td>\n",
       "      <td>1.500000</td>\n",
       "      <td>21.574977</td>\n",
       "      <td>25.487116</td>\n",
       "      <td>501.335000</td>\n",
       "      <td>1.682739</td>\n",
       "      <td>6.200000</td>\n",
       "      <td>6.750000</td>\n",
       "      <td>4.200000</td>\n",
       "      <td>...</td>\n",
       "      <td>95.800000</td>\n",
       "      <td>94.000000</td>\n",
       "      <td>19.300000</td>\n",
       "      <td>23.150000</td>\n",
       "      <td>6.784772</td>\n",
       "      <td>16.600000</td>\n",
       "      <td>14.550000</td>\n",
       "      <td>10.600000</td>\n",
       "      <td>9.650000</td>\n",
       "      <td>25.60000</td>\n",
       "    </tr>\n",
       "    <tr>\n",
       "      <th>75%</th>\n",
       "      <td>22.642722</td>\n",
       "      <td>16.091953</td>\n",
       "      <td>2.200000</td>\n",
       "      <td>44.392351</td>\n",
       "      <td>30.236732</td>\n",
       "      <td>512.835000</td>\n",
       "      <td>1.719012</td>\n",
       "      <td>8.400000</td>\n",
       "      <td>7.500000</td>\n",
       "      <td>5.250000</td>\n",
       "      <td>...</td>\n",
       "      <td>97.800000</td>\n",
       "      <td>96.300000</td>\n",
       "      <td>21.800000</td>\n",
       "      <td>25.750000</td>\n",
       "      <td>8.863713</td>\n",
       "      <td>19.500000</td>\n",
       "      <td>17.925000</td>\n",
       "      <td>17.800000</td>\n",
       "      <td>13.825000</td>\n",
       "      <td>34.90000</td>\n",
       "    </tr>\n",
       "    <tr>\n",
       "      <th>max</th>\n",
       "      <td>34.241822</td>\n",
       "      <td>24.590000</td>\n",
       "      <td>13.700000</td>\n",
       "      <td>73.957667</td>\n",
       "      <td>38.712874</td>\n",
       "      <td>552.670000</td>\n",
       "      <td>1.755798</td>\n",
       "      <td>37.700000</td>\n",
       "      <td>11.300000</td>\n",
       "      <td>23.600000</td>\n",
       "      <td>...</td>\n",
       "      <td>99.800000</td>\n",
       "      <td>99.800000</td>\n",
       "      <td>42.100000</td>\n",
       "      <td>50.230000</td>\n",
       "      <td>15.949567</td>\n",
       "      <td>27.100000</td>\n",
       "      <td>24.800000</td>\n",
       "      <td>65.800000</td>\n",
       "      <td>25.300000</td>\n",
       "      <td>57.40000</td>\n",
       "    </tr>\n",
       "  </tbody>\n",
       "</table>\n",
       "<p>8 rows × 21 columns</p>\n",
       "</div>"
      ],
      "text/plain": [
       "       Average.disposable.income  Children.in.poor.homes  \\\n",
       "count                  30.000000               30.000000   \n",
       "mean                   18.847713               12.372193   \n",
       "std                     7.597219                5.592696   \n",
       "min                     3.839462                2.740000   \n",
       "25%                    16.617877                8.901475   \n",
       "50%                    21.107187               11.659053   \n",
       "75%                    22.642722               16.091953   \n",
       "max                    34.241822               24.590000   \n",
       "\n",
       "       Educational.Deprivation  Overcrowding  Poor.environmental.conditions  \\\n",
       "count                30.000000     26.000000                      24.000000   \n",
       "mean                  2.673333     31.950163                      25.217498   \n",
       "std                   3.315370     21.132363                       7.483096   \n",
       "min                   0.400000     10.326503                      10.500000   \n",
       "25%                   1.000000     17.058130                      20.153506   \n",
       "50%                   1.500000     21.574977                      25.487116   \n",
       "75%                   2.200000     44.392351                      30.236732   \n",
       "max                  13.700000     73.957667                      38.712874   \n",
       "\n",
       "       Average.mean.literacy.score  Literacy.inequality  Youth.NEET.rate  \\\n",
       "count                    30.000000            30.000000        27.000000   \n",
       "mean                    496.317000             1.665085         7.377778   \n",
       "std                      29.381643             0.067391         6.489656   \n",
       "min                     408.670000             1.475432         1.700000   \n",
       "25%                     482.750000             1.623048         4.550000   \n",
       "50%                     501.335000             1.682739         6.200000   \n",
       "75%                     512.835000             1.719012         8.400000   \n",
       "max                     552.670000             1.755798        37.700000   \n",
       "\n",
       "       Low.birth.weight  Infant.mortality      ...        \\\n",
       "count         30.000000         30.000000      ...         \n",
       "mean           6.643333          5.446667      ...         \n",
       "std            1.728001          4.506756      ...         \n",
       "min            3.900000          2.300000      ...         \n",
       "25%            5.150000          3.525000      ...         \n",
       "50%            6.750000          4.200000      ...         \n",
       "75%            7.500000          5.250000      ...         \n",
       "max           11.300000         23.600000      ...         \n",
       "\n",
       "       Vaccination.rates..pertussis.  Vaccination.rates.measles.  \\\n",
       "count                      29.000000                   29.000000   \n",
       "mean                       93.775862                   91.517241   \n",
       "std                         5.317334                    5.909138   \n",
       "min                        78.000000                   74.000000   \n",
       "25%                        91.000000                   88.000000   \n",
       "50%                        95.800000                   94.000000   \n",
       "75%                        97.800000                   96.300000   \n",
       "max                        99.800000                   99.800000   \n",
       "\n",
       "       Physical.activity  Mortality.rates  Suicide.rates    Smoking  \\\n",
       "count          26.000000        29.000000      29.000000  24.000000   \n",
       "mean           20.134615        24.598966       6.856272  16.512500   \n",
       "std             6.157983         6.745815       3.204545   4.766852   \n",
       "min            13.100000        14.840000       1.263026   8.100000   \n",
       "25%            15.800000        21.170000       5.036520  14.625000   \n",
       "50%            19.300000        23.150000       6.784772  16.600000   \n",
       "75%            21.800000        25.750000       8.863713  19.500000   \n",
       "max            42.100000        50.230000      15.949567  27.100000   \n",
       "\n",
       "       Drunkenness  Teenage.births   Bullying  Liking.school  \n",
       "count    24.000000       30.000000  24.000000       25.00000  \n",
       "mean     15.225000       15.500000  10.979167       27.17200  \n",
       "std       4.301794       13.967326   5.146462       10.39926  \n",
       "min      10.000000        3.700000   4.200000       11.70000  \n",
       "25%      11.350000        7.050000   7.975000       21.40000  \n",
       "50%      14.550000       10.600000   9.650000       25.60000  \n",
       "75%      17.925000       17.800000  13.825000       34.90000  \n",
       "max      24.800000       65.800000  25.300000       57.40000  \n",
       "\n",
       "[8 rows x 21 columns]"
      ]
     },
     "execution_count": 5,
     "metadata": {},
     "output_type": "execute_result"
    }
   ],
   "source": [
    "data.describe()"
   ]
  },
  {
   "cell_type": "markdown",
   "metadata": {},
   "source": [
    "### Aufgabe 1.1 d)"
   ]
  },
  {
   "cell_type": "code",
   "execution_count": 6,
   "metadata": {},
   "outputs": [
    {
     "data": {
      "text/plain": [
       "Index(['Australia', 'Austria', 'Belgium', 'Canada', 'Czech Republic',\n",
       "       'Denmark', 'Finland', 'France', 'Germany', 'Greece', 'Hungary',\n",
       "       'Iceland', 'Ireland', 'Italy', 'Japan', 'Korea', 'Luxembourg', 'Mexico',\n",
       "       'Netherlands', 'New Zealand', 'Norway', 'Poland', 'Portugal',\n",
       "       'Slovak Republic', 'Spain', 'Sweden', 'Switzerland', 'Turkey',\n",
       "       'United Kingdom', 'United States'],\n",
       "      dtype='object')"
      ]
     },
     "execution_count": 6,
     "metadata": {},
     "output_type": "execute_result"
    }
   ],
   "source": [
    "# index ausgeben\n",
    "data.index"
   ]
  },
  {
   "cell_type": "code",
   "execution_count": 9,
   "metadata": {},
   "outputs": [
    {
     "data": {
      "text/plain": [
       "False"
      ]
     },
     "execution_count": 9,
     "metadata": {},
     "output_type": "execute_result"
    }
   ],
   "source": [
    "\"China\" in data.index"
   ]
  },
  {
   "cell_type": "code",
   "execution_count": 10,
   "metadata": {},
   "outputs": [
    {
     "data": {
      "text/plain": [
       "True"
      ]
     },
     "execution_count": 10,
     "metadata": {},
     "output_type": "execute_result"
    }
   ],
   "source": [
    "\"Netherlands\" in data.index"
   ]
  },
  {
   "cell_type": "markdown",
   "metadata": {},
   "source": [
    "### Aufgabe 1.1 e)"
   ]
  },
  {
   "cell_type": "code",
   "execution_count": 5,
   "metadata": {},
   "outputs": [
    {
     "data": {
      "text/plain": [
       "Index(['Average.disposable.income', 'Children.in.poor.homes',\n",
       "       'Educational.Deprivation', 'Overcrowding',\n",
       "       'Poor.environmental.conditions', 'Average.mean.literacy.score',\n",
       "       'Literacy.inequality', 'Youth.NEET.rate', 'Low.birth.weight',\n",
       "       'Infant.mortality', 'Breastfeeding.rates',\n",
       "       'Vaccination.rates..pertussis.', 'Vaccination.rates.measles.',\n",
       "       'Physical.activity', 'Mortality.rates', 'Suicide.rates', 'Smoking',\n",
       "       'Drunkenness', 'Teenage.births', 'Bullying', 'Liking.school'],\n",
       "      dtype='object')"
      ]
     },
     "execution_count": 5,
     "metadata": {},
     "output_type": "execute_result"
    }
   ],
   "source": [
    "data.columns"
   ]
  },
  {
   "cell_type": "code",
   "execution_count": 11,
   "metadata": {
    "scrolled": true
   },
   "outputs": [
    {
     "data": {
      "text/plain": [
       "Denmark           24.8\n",
       "Finland           22.4\n",
       "United Kingdom    22.1\n",
       "Poland            19.9\n",
       "Canada            18.8\n",
       "Name: Drunkenness, dtype: float64"
      ]
     },
     "execution_count": 11,
     "metadata": {},
     "output_type": "execute_result"
    }
   ],
   "source": [
    "data.sort_values(by=\"Drunkenness\", ascending=0).loc[:,\"Drunkenness\"].head()"
   ]
  },
  {
   "cell_type": "markdown",
   "metadata": {},
   "source": [
    "### Aufgabe 1.1 f)"
   ]
  },
  {
   "cell_type": "code",
   "execution_count": 7,
   "metadata": {},
   "outputs": [
    {
     "data": {
      "text/plain": [
       "Denmark           24.8\n",
       "Finland           22.4\n",
       "United Kingdom    22.1\n",
       "Poland            19.9\n",
       "Canada            18.8\n",
       "Name: Drunkenness, dtype: float64"
      ]
     },
     "execution_count": 7,
     "metadata": {},
     "output_type": "execute_result"
    }
   ],
   "source": [
    "data.nlargest(5,\"Drunkenness\").sort_values(by=\"Drunkenness\", ascending=0).loc[:,\"Drunkenness\"]"
   ]
  },
  {
   "cell_type": "code",
   "execution_count": 20,
   "metadata": {},
   "outputs": [
    {
     "data": {
      "text/plain": [
       "Iceland    2.3\n",
       "Name: Infant.mortality, dtype: float64"
      ]
     },
     "execution_count": 20,
     "metadata": {},
     "output_type": "execute_result"
    }
   ],
   "source": [
    "data.nsmallest(1,\"Infant.mortality\").loc[:,\"Infant.mortality\"]"
   ]
  },
  {
   "cell_type": "markdown",
   "metadata": {},
   "source": [
    "### Aufgabe 1.1 g)"
   ]
  },
  {
   "cell_type": "code",
   "execution_count": 9,
   "metadata": {},
   "outputs": [
    {
     "name": "stdout",
     "output_type": "stream",
     "text": [
      "Physical.activity mean = 20.13\n"
     ]
    },
    {
     "data": {
      "text/plain": [
       "Austria           19.6\n",
       "Belgium           19.1\n",
       "France            13.5\n",
       "Germany           17.0\n",
       "Greece            15.5\n",
       "Hungary           19.5\n",
       "Italy             15.1\n",
       "Luxembourg        15.2\n",
       "Mexico            18.1\n",
       "Norway            15.6\n",
       "Poland            17.3\n",
       "Portugal          14.6\n",
       "Sweden            16.4\n",
       "Switzerland       13.1\n",
       "Turkey            20.0\n",
       "United Kingdom    18.7\n",
       "Name: Physical.activity, dtype: float64"
      ]
     },
     "execution_count": 9,
     "metadata": {},
     "output_type": "execute_result"
    }
   ],
   "source": [
    "print(\"Physical.activity mean = %.2f\" % data[\"Physical.activity\"].mean())\n",
    "\n",
    "data.loc[data[\"Physical.activity\"] < data[\"Physical.activity\"].mean(),\"Physical.activity\"]"
   ]
  },
  {
   "cell_type": "markdown",
   "metadata": {},
   "source": [
    "## Aufgabe 1.2"
   ]
  },
  {
   "cell_type": "markdown",
   "metadata": {},
   "source": [
    "### Aufgabe 1.2 a)"
   ]
  },
  {
   "cell_type": "code",
   "execution_count": 21,
   "metadata": {},
   "outputs": [
    {
     "name": "stdout",
     "output_type": "stream",
     "text": [
      "-rw-r--r--  1 tluscre1  1437665408  1195 Oct 15 16:09 data/d.fuel.dat\r\n"
     ]
    }
   ],
   "source": [
    "import pandas as pd\n",
    "from pandas import Series, DataFrame\n",
    "file = \"data/d.fuel.dat\"\n",
    "! ls -l \"data/d.fuel.dat\"\n",
    "fuel = pd.read_table(file, sep=\",\", index_col=0)"
   ]
  },
  {
   "cell_type": "markdown",
   "metadata": {},
   "source": [
    "`weight`: Gewicht in Pounds (1 Pound = 0.453 59 kg)\n",
    "\n",
    "`mpg`: Reichweite in Miles Per Gallon (1 gallon = 3.789 l; 1 mile = 1.6093 km)\n",
    "\n",
    "`type`: Autotyp"
   ]
  },
  {
   "cell_type": "code",
   "execution_count": 11,
   "metadata": {},
   "outputs": [
    {
     "data": {
      "text/html": [
       "<div>\n",
       "<style scoped>\n",
       "    .dataframe tbody tr th:only-of-type {\n",
       "        vertical-align: middle;\n",
       "    }\n",
       "\n",
       "    .dataframe tbody tr th {\n",
       "        vertical-align: top;\n",
       "    }\n",
       "\n",
       "    .dataframe thead th {\n",
       "        text-align: right;\n",
       "    }\n",
       "</style>\n",
       "<table border=\"1\" class=\"dataframe\">\n",
       "  <thead>\n",
       "    <tr style=\"text-align: right;\">\n",
       "      <th></th>\n",
       "      <th>weight</th>\n",
       "      <th>mpg</th>\n",
       "      <th>type</th>\n",
       "    </tr>\n",
       "    <tr>\n",
       "      <th>X</th>\n",
       "      <th></th>\n",
       "      <th></th>\n",
       "      <th></th>\n",
       "    </tr>\n",
       "  </thead>\n",
       "  <tbody>\n",
       "    <tr>\n",
       "      <th>1</th>\n",
       "      <td>2560</td>\n",
       "      <td>33</td>\n",
       "      <td>Small</td>\n",
       "    </tr>\n",
       "    <tr>\n",
       "      <th>2</th>\n",
       "      <td>2345</td>\n",
       "      <td>33</td>\n",
       "      <td>Small</td>\n",
       "    </tr>\n",
       "    <tr>\n",
       "      <th>3</th>\n",
       "      <td>1845</td>\n",
       "      <td>37</td>\n",
       "      <td>Small</td>\n",
       "    </tr>\n",
       "    <tr>\n",
       "      <th>4</th>\n",
       "      <td>2260</td>\n",
       "      <td>32</td>\n",
       "      <td>Small</td>\n",
       "    </tr>\n",
       "    <tr>\n",
       "      <th>5</th>\n",
       "      <td>2440</td>\n",
       "      <td>32</td>\n",
       "      <td>Small</td>\n",
       "    </tr>\n",
       "    <tr>\n",
       "      <th>6</th>\n",
       "      <td>2285</td>\n",
       "      <td>26</td>\n",
       "      <td>Small</td>\n",
       "    </tr>\n",
       "    <tr>\n",
       "      <th>7</th>\n",
       "      <td>2275</td>\n",
       "      <td>33</td>\n",
       "      <td>Small</td>\n",
       "    </tr>\n",
       "    <tr>\n",
       "      <th>8</th>\n",
       "      <td>2350</td>\n",
       "      <td>28</td>\n",
       "      <td>Small</td>\n",
       "    </tr>\n",
       "    <tr>\n",
       "      <th>9</th>\n",
       "      <td>2295</td>\n",
       "      <td>25</td>\n",
       "      <td>Small</td>\n",
       "    </tr>\n",
       "    <tr>\n",
       "      <th>10</th>\n",
       "      <td>1900</td>\n",
       "      <td>34</td>\n",
       "      <td>Small</td>\n",
       "    </tr>\n",
       "    <tr>\n",
       "      <th>11</th>\n",
       "      <td>2390</td>\n",
       "      <td>29</td>\n",
       "      <td>Small</td>\n",
       "    </tr>\n",
       "    <tr>\n",
       "      <th>12</th>\n",
       "      <td>2075</td>\n",
       "      <td>35</td>\n",
       "      <td>Small</td>\n",
       "    </tr>\n",
       "    <tr>\n",
       "      <th>13</th>\n",
       "      <td>2330</td>\n",
       "      <td>26</td>\n",
       "      <td>Small</td>\n",
       "    </tr>\n",
       "    <tr>\n",
       "      <th>14</th>\n",
       "      <td>3320</td>\n",
       "      <td>20</td>\n",
       "      <td>Sporty</td>\n",
       "    </tr>\n",
       "    <tr>\n",
       "      <th>15</th>\n",
       "      <td>2885</td>\n",
       "      <td>27</td>\n",
       "      <td>Sporty</td>\n",
       "    </tr>\n",
       "    <tr>\n",
       "      <th>16</th>\n",
       "      <td>3310</td>\n",
       "      <td>19</td>\n",
       "      <td>Sporty</td>\n",
       "    </tr>\n",
       "    <tr>\n",
       "      <th>17</th>\n",
       "      <td>2695</td>\n",
       "      <td>30</td>\n",
       "      <td>Sporty</td>\n",
       "    </tr>\n",
       "    <tr>\n",
       "      <th>18</th>\n",
       "      <td>2170</td>\n",
       "      <td>33</td>\n",
       "      <td>Sporty</td>\n",
       "    </tr>\n",
       "    <tr>\n",
       "      <th>19</th>\n",
       "      <td>2710</td>\n",
       "      <td>27</td>\n",
       "      <td>Sporty</td>\n",
       "    </tr>\n",
       "    <tr>\n",
       "      <th>20</th>\n",
       "      <td>2775</td>\n",
       "      <td>24</td>\n",
       "      <td>Sporty</td>\n",
       "    </tr>\n",
       "    <tr>\n",
       "      <th>21</th>\n",
       "      <td>2840</td>\n",
       "      <td>26</td>\n",
       "      <td>Sporty</td>\n",
       "    </tr>\n",
       "    <tr>\n",
       "      <th>22</th>\n",
       "      <td>2485</td>\n",
       "      <td>28</td>\n",
       "      <td>Sporty</td>\n",
       "    </tr>\n",
       "    <tr>\n",
       "      <th>23</th>\n",
       "      <td>2670</td>\n",
       "      <td>27</td>\n",
       "      <td>Compact</td>\n",
       "    </tr>\n",
       "    <tr>\n",
       "      <th>24</th>\n",
       "      <td>2640</td>\n",
       "      <td>23</td>\n",
       "      <td>Compact</td>\n",
       "    </tr>\n",
       "    <tr>\n",
       "      <th>25</th>\n",
       "      <td>2655</td>\n",
       "      <td>26</td>\n",
       "      <td>Compact</td>\n",
       "    </tr>\n",
       "    <tr>\n",
       "      <th>26</th>\n",
       "      <td>3065</td>\n",
       "      <td>25</td>\n",
       "      <td>Compact</td>\n",
       "    </tr>\n",
       "    <tr>\n",
       "      <th>27</th>\n",
       "      <td>2750</td>\n",
       "      <td>24</td>\n",
       "      <td>Compact</td>\n",
       "    </tr>\n",
       "    <tr>\n",
       "      <th>28</th>\n",
       "      <td>2920</td>\n",
       "      <td>26</td>\n",
       "      <td>Compact</td>\n",
       "    </tr>\n",
       "    <tr>\n",
       "      <th>29</th>\n",
       "      <td>2780</td>\n",
       "      <td>24</td>\n",
       "      <td>Compact</td>\n",
       "    </tr>\n",
       "    <tr>\n",
       "      <th>30</th>\n",
       "      <td>2745</td>\n",
       "      <td>25</td>\n",
       "      <td>Compact</td>\n",
       "    </tr>\n",
       "    <tr>\n",
       "      <th>31</th>\n",
       "      <td>3110</td>\n",
       "      <td>21</td>\n",
       "      <td>Compact</td>\n",
       "    </tr>\n",
       "    <tr>\n",
       "      <th>32</th>\n",
       "      <td>2920</td>\n",
       "      <td>21</td>\n",
       "      <td>Compact</td>\n",
       "    </tr>\n",
       "    <tr>\n",
       "      <th>33</th>\n",
       "      <td>2645</td>\n",
       "      <td>23</td>\n",
       "      <td>Compact</td>\n",
       "    </tr>\n",
       "    <tr>\n",
       "      <th>34</th>\n",
       "      <td>2575</td>\n",
       "      <td>24</td>\n",
       "      <td>Compact</td>\n",
       "    </tr>\n",
       "    <tr>\n",
       "      <th>35</th>\n",
       "      <td>2935</td>\n",
       "      <td>23</td>\n",
       "      <td>Compact</td>\n",
       "    </tr>\n",
       "    <tr>\n",
       "      <th>36</th>\n",
       "      <td>2920</td>\n",
       "      <td>27</td>\n",
       "      <td>Compact</td>\n",
       "    </tr>\n",
       "    <tr>\n",
       "      <th>37</th>\n",
       "      <td>2985</td>\n",
       "      <td>23</td>\n",
       "      <td>Compact</td>\n",
       "    </tr>\n",
       "    <tr>\n",
       "      <th>38</th>\n",
       "      <td>3265</td>\n",
       "      <td>20</td>\n",
       "      <td>Medium</td>\n",
       "    </tr>\n",
       "    <tr>\n",
       "      <th>39</th>\n",
       "      <td>2880</td>\n",
       "      <td>21</td>\n",
       "      <td>Medium</td>\n",
       "    </tr>\n",
       "    <tr>\n",
       "      <th>40</th>\n",
       "      <td>2975</td>\n",
       "      <td>22</td>\n",
       "      <td>Medium</td>\n",
       "    </tr>\n",
       "    <tr>\n",
       "      <th>41</th>\n",
       "      <td>3450</td>\n",
       "      <td>22</td>\n",
       "      <td>Medium</td>\n",
       "    </tr>\n",
       "    <tr>\n",
       "      <th>42</th>\n",
       "      <td>3145</td>\n",
       "      <td>22</td>\n",
       "      <td>Medium</td>\n",
       "    </tr>\n",
       "    <tr>\n",
       "      <th>43</th>\n",
       "      <td>3190</td>\n",
       "      <td>22</td>\n",
       "      <td>Medium</td>\n",
       "    </tr>\n",
       "    <tr>\n",
       "      <th>44</th>\n",
       "      <td>3610</td>\n",
       "      <td>23</td>\n",
       "      <td>Medium</td>\n",
       "    </tr>\n",
       "    <tr>\n",
       "      <th>45</th>\n",
       "      <td>2885</td>\n",
       "      <td>23</td>\n",
       "      <td>Medium</td>\n",
       "    </tr>\n",
       "    <tr>\n",
       "      <th>46</th>\n",
       "      <td>3480</td>\n",
       "      <td>21</td>\n",
       "      <td>Medium</td>\n",
       "    </tr>\n",
       "    <tr>\n",
       "      <th>47</th>\n",
       "      <td>3200</td>\n",
       "      <td>22</td>\n",
       "      <td>Medium</td>\n",
       "    </tr>\n",
       "    <tr>\n",
       "      <th>48</th>\n",
       "      <td>2765</td>\n",
       "      <td>21</td>\n",
       "      <td>Medium</td>\n",
       "    </tr>\n",
       "    <tr>\n",
       "      <th>49</th>\n",
       "      <td>3220</td>\n",
       "      <td>21</td>\n",
       "      <td>Medium</td>\n",
       "    </tr>\n",
       "    <tr>\n",
       "      <th>50</th>\n",
       "      <td>3480</td>\n",
       "      <td>23</td>\n",
       "      <td>Medium</td>\n",
       "    </tr>\n",
       "    <tr>\n",
       "      <th>51</th>\n",
       "      <td>3325</td>\n",
       "      <td>23</td>\n",
       "      <td>Large</td>\n",
       "    </tr>\n",
       "    <tr>\n",
       "      <th>52</th>\n",
       "      <td>3855</td>\n",
       "      <td>18</td>\n",
       "      <td>Large</td>\n",
       "    </tr>\n",
       "    <tr>\n",
       "      <th>53</th>\n",
       "      <td>3850</td>\n",
       "      <td>20</td>\n",
       "      <td>Large</td>\n",
       "    </tr>\n",
       "    <tr>\n",
       "      <th>54</th>\n",
       "      <td>3195</td>\n",
       "      <td>18</td>\n",
       "      <td>Van</td>\n",
       "    </tr>\n",
       "    <tr>\n",
       "      <th>55</th>\n",
       "      <td>3735</td>\n",
       "      <td>18</td>\n",
       "      <td>Van</td>\n",
       "    </tr>\n",
       "    <tr>\n",
       "      <th>56</th>\n",
       "      <td>3665</td>\n",
       "      <td>18</td>\n",
       "      <td>Van</td>\n",
       "    </tr>\n",
       "    <tr>\n",
       "      <th>57</th>\n",
       "      <td>3735</td>\n",
       "      <td>19</td>\n",
       "      <td>Van</td>\n",
       "    </tr>\n",
       "    <tr>\n",
       "      <th>58</th>\n",
       "      <td>3415</td>\n",
       "      <td>20</td>\n",
       "      <td>Van</td>\n",
       "    </tr>\n",
       "    <tr>\n",
       "      <th>59</th>\n",
       "      <td>3185</td>\n",
       "      <td>20</td>\n",
       "      <td>Van</td>\n",
       "    </tr>\n",
       "    <tr>\n",
       "      <th>60</th>\n",
       "      <td>3690</td>\n",
       "      <td>19</td>\n",
       "      <td>Van</td>\n",
       "    </tr>\n",
       "  </tbody>\n",
       "</table>\n",
       "</div>"
      ],
      "text/plain": [
       "    weight  mpg     type\n",
       "X                       \n",
       "1     2560   33    Small\n",
       "2     2345   33    Small\n",
       "3     1845   37    Small\n",
       "4     2260   32    Small\n",
       "5     2440   32    Small\n",
       "6     2285   26    Small\n",
       "7     2275   33    Small\n",
       "8     2350   28    Small\n",
       "9     2295   25    Small\n",
       "10    1900   34    Small\n",
       "11    2390   29    Small\n",
       "12    2075   35    Small\n",
       "13    2330   26    Small\n",
       "14    3320   20   Sporty\n",
       "15    2885   27   Sporty\n",
       "16    3310   19   Sporty\n",
       "17    2695   30   Sporty\n",
       "18    2170   33   Sporty\n",
       "19    2710   27   Sporty\n",
       "20    2775   24   Sporty\n",
       "21    2840   26   Sporty\n",
       "22    2485   28   Sporty\n",
       "23    2670   27  Compact\n",
       "24    2640   23  Compact\n",
       "25    2655   26  Compact\n",
       "26    3065   25  Compact\n",
       "27    2750   24  Compact\n",
       "28    2920   26  Compact\n",
       "29    2780   24  Compact\n",
       "30    2745   25  Compact\n",
       "31    3110   21  Compact\n",
       "32    2920   21  Compact\n",
       "33    2645   23  Compact\n",
       "34    2575   24  Compact\n",
       "35    2935   23  Compact\n",
       "36    2920   27  Compact\n",
       "37    2985   23  Compact\n",
       "38    3265   20   Medium\n",
       "39    2880   21   Medium\n",
       "40    2975   22   Medium\n",
       "41    3450   22   Medium\n",
       "42    3145   22   Medium\n",
       "43    3190   22   Medium\n",
       "44    3610   23   Medium\n",
       "45    2885   23   Medium\n",
       "46    3480   21   Medium\n",
       "47    3200   22   Medium\n",
       "48    2765   21   Medium\n",
       "49    3220   21   Medium\n",
       "50    3480   23   Medium\n",
       "51    3325   23    Large\n",
       "52    3855   18    Large\n",
       "53    3850   20    Large\n",
       "54    3195   18      Van\n",
       "55    3735   18      Van\n",
       "56    3665   18      Van\n",
       "57    3735   19      Van\n",
       "58    3415   20      Van\n",
       "59    3185   20      Van\n",
       "60    3690   19      Van"
      ]
     },
     "execution_count": 11,
     "metadata": {},
     "output_type": "execute_result"
    }
   ],
   "source": [
    "fuel"
   ]
  },
  {
   "cell_type": "markdown",
   "metadata": {},
   "source": [
    "### Aufgabe 1.2 b)"
   ]
  },
  {
   "cell_type": "code",
   "execution_count": 34,
   "metadata": {},
   "outputs": [
    {
     "data": {
      "text/plain": [
       "weight     2440\n",
       "mpg          32\n",
       "type      Small\n",
       "Name: 5, dtype: object"
      ]
     },
     "execution_count": 34,
     "metadata": {},
     "output_type": "execute_result"
    }
   ],
   "source": [
    "fuel.loc[5,:]"
   ]
  },
  {
   "cell_type": "markdown",
   "metadata": {},
   "source": [
    "### Aufgabe 1.2 c)"
   ]
  },
  {
   "cell_type": "code",
   "execution_count": 13,
   "metadata": {},
   "outputs": [
    {
     "data": {
      "text/html": [
       "<div>\n",
       "<style scoped>\n",
       "    .dataframe tbody tr th:only-of-type {\n",
       "        vertical-align: middle;\n",
       "    }\n",
       "\n",
       "    .dataframe tbody tr th {\n",
       "        vertical-align: top;\n",
       "    }\n",
       "\n",
       "    .dataframe thead th {\n",
       "        text-align: right;\n",
       "    }\n",
       "</style>\n",
       "<table border=\"1\" class=\"dataframe\">\n",
       "  <thead>\n",
       "    <tr style=\"text-align: right;\">\n",
       "      <th></th>\n",
       "      <th>weight</th>\n",
       "      <th>mpg</th>\n",
       "      <th>type</th>\n",
       "    </tr>\n",
       "    <tr>\n",
       "      <th>X</th>\n",
       "      <th></th>\n",
       "      <th></th>\n",
       "      <th></th>\n",
       "    </tr>\n",
       "  </thead>\n",
       "  <tbody>\n",
       "    <tr>\n",
       "      <th>1</th>\n",
       "      <td>2560</td>\n",
       "      <td>33</td>\n",
       "      <td>Small</td>\n",
       "    </tr>\n",
       "    <tr>\n",
       "      <th>2</th>\n",
       "      <td>2345</td>\n",
       "      <td>33</td>\n",
       "      <td>Small</td>\n",
       "    </tr>\n",
       "    <tr>\n",
       "      <th>3</th>\n",
       "      <td>1845</td>\n",
       "      <td>37</td>\n",
       "      <td>Small</td>\n",
       "    </tr>\n",
       "    <tr>\n",
       "      <th>4</th>\n",
       "      <td>2260</td>\n",
       "      <td>32</td>\n",
       "      <td>Small</td>\n",
       "    </tr>\n",
       "    <tr>\n",
       "      <th>5</th>\n",
       "      <td>2440</td>\n",
       "      <td>32</td>\n",
       "      <td>Small</td>\n",
       "    </tr>\n",
       "  </tbody>\n",
       "</table>\n",
       "</div>"
      ],
      "text/plain": [
       "   weight  mpg   type\n",
       "X                    \n",
       "1    2560   33  Small\n",
       "2    2345   33  Small\n",
       "3    1845   37  Small\n",
       "4    2260   32  Small\n",
       "5    2440   32  Small"
      ]
     },
     "execution_count": 13,
     "metadata": {},
     "output_type": "execute_result"
    }
   ],
   "source": [
    "fuel.head(5)"
   ]
  },
  {
   "cell_type": "markdown",
   "metadata": {},
   "source": [
    "### Aufgabe 1.2 d)"
   ]
  },
  {
   "cell_type": "code",
   "execution_count": 14,
   "metadata": {},
   "outputs": [
    {
     "data": {
      "text/plain": [
       "24.583333333333332"
      ]
     },
     "execution_count": 14,
     "metadata": {},
     "output_type": "execute_result"
    }
   ],
   "source": [
    "fuel[\"mpg\"].mean()"
   ]
  },
  {
   "cell_type": "markdown",
   "metadata": {},
   "source": [
    "### Aufgabe 1.2 e)"
   ]
  },
  {
   "cell_type": "code",
   "execution_count": 15,
   "metadata": {},
   "outputs": [
    {
     "data": {
      "text/plain": [
       "27.75"
      ]
     },
     "execution_count": 15,
     "metadata": {},
     "output_type": "execute_result"
    }
   ],
   "source": [
    "fuel.loc[7:22,\"mpg\"].mean()"
   ]
  },
  {
   "cell_type": "markdown",
   "metadata": {},
   "source": [
    "### Aufgabe 1.2 f)"
   ]
  },
  {
   "cell_type": "code",
   "execution_count": 16,
   "metadata": {},
   "outputs": [
    {
     "name": "stdout",
     "output_type": "stream",
     "text": [
      "X\n",
      "1     14.016073\n",
      "2     14.016073\n",
      "3     15.714991\n",
      "4     13.591343\n",
      "5     13.591343\n",
      "6     11.042966\n",
      "7     14.016073\n",
      "8     11.892425\n",
      "9     10.618237\n",
      "10    14.440802\n",
      "11    12.317155\n",
      "12    14.865532\n",
      "13    11.042966\n",
      "14     8.494590\n",
      "15    11.467696\n",
      "16     8.069860\n",
      "17    12.741884\n",
      "18    14.016073\n",
      "19    11.467696\n",
      "20    10.193508\n",
      "21    11.042966\n",
      "22    11.892425\n",
      "23    11.467696\n",
      "24     9.768778\n",
      "25    11.042966\n",
      "26    10.618237\n",
      "27    10.193508\n",
      "28    11.042966\n",
      "29    10.193508\n",
      "30    10.618237\n",
      "31     8.919319\n",
      "32     8.919319\n",
      "33     9.768778\n",
      "34    10.193508\n",
      "35     9.768778\n",
      "36    11.467696\n",
      "37     9.768778\n",
      "38     8.494590\n",
      "39     8.919319\n",
      "40     9.344049\n",
      "41     9.344049\n",
      "42     9.344049\n",
      "43     9.344049\n",
      "44     9.768778\n",
      "45     9.768778\n",
      "46     8.919319\n",
      "47     9.344049\n",
      "48     8.919319\n",
      "49     8.919319\n",
      "50     9.768778\n",
      "51     9.768778\n",
      "52     7.645131\n",
      "53     8.494590\n",
      "54     7.645131\n",
      "55     7.645131\n",
      "56     7.645131\n",
      "57     8.069860\n",
      "58     8.494590\n",
      "59     8.494590\n",
      "60     8.069860\n",
      "Name: mpg, dtype: float64\n"
     ]
    }
   ],
   "source": [
    "mileInKm = 1.6093\n",
    "gallonInLiter = 3.789\n",
    "t_kml = fuel[\"mpg\"]*mileInKm/gallonInLiter\n",
    "print(t_kml)"
   ]
  },
  {
   "cell_type": "code",
   "execution_count": 17,
   "metadata": {},
   "outputs": [
    {
     "data": {
      "text/plain": [
       "X\n",
       "1     1161.19040\n",
       "2     1063.66855\n",
       "3      836.87355\n",
       "4     1025.11340\n",
       "5     1106.75960\n",
       "6     1036.45315\n",
       "7     1031.91725\n",
       "8     1065.93650\n",
       "9     1040.98905\n",
       "10     861.82100\n",
       "11    1084.08010\n",
       "12     941.19925\n",
       "13    1056.86470\n",
       "14    1505.91880\n",
       "15    1308.60715\n",
       "16    1501.38290\n",
       "17    1222.42505\n",
       "18     984.29030\n",
       "19    1229.22890\n",
       "20    1258.71225\n",
       "21    1288.19560\n",
       "22    1127.17115\n",
       "23    1211.08530\n",
       "24    1197.47760\n",
       "25    1204.28145\n",
       "26    1390.25335\n",
       "27    1247.37250\n",
       "28    1324.48280\n",
       "29    1260.98020\n",
       "30    1245.10455\n",
       "31    1410.66490\n",
       "32    1324.48280\n",
       "33    1199.74555\n",
       "34    1167.99425\n",
       "35    1331.28665\n",
       "36    1324.48280\n",
       "37    1353.96615\n",
       "38    1480.97135\n",
       "39    1306.33920\n",
       "40    1349.43025\n",
       "41    1564.88550\n",
       "42    1426.54055\n",
       "43    1446.95210\n",
       "44    1637.45990\n",
       "45    1308.60715\n",
       "46    1578.49320\n",
       "47    1451.48800\n",
       "48    1254.17635\n",
       "49    1460.55980\n",
       "50    1578.49320\n",
       "51    1508.18675\n",
       "52    1748.58945\n",
       "53    1746.32150\n",
       "54    1449.22005\n",
       "55    1694.15865\n",
       "56    1662.40735\n",
       "57    1694.15865\n",
       "58    1549.00985\n",
       "59    1444.68415\n",
       "60    1673.74710\n",
       "Name: weight, dtype: float64"
      ]
     },
     "execution_count": 17,
     "metadata": {},
     "output_type": "execute_result"
    }
   ],
   "source": [
    "poundInKg = 0.45359\n",
    "t_kg = fuel[\"weight\"] * poundInKg\n",
    "t_kg"
   ]
  },
  {
   "cell_type": "markdown",
   "metadata": {},
   "source": [
    "### Aufgabe 1.2 g)"
   ]
  },
  {
   "cell_type": "code",
   "execution_count": 18,
   "metadata": {},
   "outputs": [
    {
     "name": "stdout",
     "output_type": "stream",
     "text": [
      "Mittelwert von km/l = 10.44 km/l\n",
      "Mittelwert von Fahrzeuggewichte in kg = 1315.79 kg\n"
     ]
    }
   ],
   "source": [
    "print(\"Mittelwert von km/l = %.2f km/l\" % t_kml.mean())\n",
    "print(\"Mittelwert von Fahrzeuggewichte in kg = %.2f kg\" % t_kg.mean())"
   ]
  },
  {
   "cell_type": "markdown",
   "metadata": {},
   "source": [
    "## Aufgabe 1.3"
   ]
  },
  {
   "cell_type": "markdown",
   "metadata": {},
   "source": [
    "Daten Import"
   ]
  },
  {
   "cell_type": "code",
   "execution_count": 19,
   "metadata": {},
   "outputs": [
    {
     "data": {
      "text/plain": [
       "count    21.000000\n",
       "mean     12.814286\n",
       "std      10.679292\n",
       "min       2.100000\n",
       "25%       4.900000\n",
       "50%      10.800000\n",
       "75%      17.600000\n",
       "max      39.600000\n",
       "dtype: float64"
      ]
     },
     "execution_count": 19,
     "metadata": {},
     "output_type": "execute_result"
    }
   ],
   "source": [
    "import numpy as np\n",
    "import pandas as pd\n",
    "from pandas import Series, DataFrame\n",
    "\n",
    "nutzflaeche = Series([2.1,2.4,2.8,3.1,4.2,4.9,5.1,6.0,6.4,7.3,10.8,12.5,13.0,13.7,14.8,17.6,19.6,23.0,25.0,35.2,39.6])\n",
    "nutzflaeche.describe()"
   ]
  },
  {
   "cell_type": "markdown",
   "metadata": {},
   "source": [
    "### Aufgabe 1.3 a)"
   ]
  },
  {
   "cell_type": "code",
   "execution_count": 20,
   "metadata": {},
   "outputs": [
    {
     "name": "stdout",
     "output_type": "stream",
     "text": [
      "Die Summer der Nutzfläche ist: 269.10 \n",
      "Die Summe der Nutzfläche quardriert: 5729.27\n"
     ]
    }
   ],
   "source": [
    "nutzflaecheSum = nutzflaeche.sum()\n",
    "nutzflaecheSumSquared = (nutzflaeche*nutzflaeche).sum()\n",
    "print(\"Die Summer der Nutzfläche ist: %.2f \\nDie Summe der Nutzfläche quardriert: %.2f\" % (nutzflaecheSum, nutzflaecheSumSquared))"
   ]
  },
  {
   "cell_type": "markdown",
   "metadata": {},
   "source": [
    "### Aufgabe 1.3 b)"
   ]
  },
  {
   "cell_type": "code",
   "execution_count": 21,
   "metadata": {},
   "outputs": [
    {
     "name": "stdout",
     "output_type": "stream",
     "text": [
      "mean\t12.814286\n",
      "Kontrolle via pandas:\n",
      "mean\t12.814286\n",
      "\n",
      "Varianz = 114.047286\n",
      "Kontrolle via pandas:\n",
      "var\t114.047286\n",
      "\n",
      "Standardabweichung = 10.679292\n",
      "Kontrolle via pandas:\n",
      "std\t10.679292\n",
      "\n"
     ]
    }
   ],
   "source": [
    "# Mittelwert\n",
    "nutzflaecheMean = nutzflaecheSum/len(nutzflaeche)\n",
    "## len(xxx) geht auch mit nutzflaeche.size()\n",
    "print(\"mean\\t%.6f\" % nutzflaecheMean)\n",
    "print(\"Kontrolle via pandas:\\nmean\\t%.6f\\n\" % nutzflaeche.mean())\n",
    "\n",
    "# Varianz\n",
    "nutzflaecheVarianz = ((nutzflaeche-nutzflaecheMean)**2).sum() / (nutzflaeche.size-1)\n",
    "print(\"Varianz = %.6f\" % nutzflaecheVarianz)\n",
    "print(\"Kontrolle via pandas:\\nvar\\t%.6f\\n\" % nutzflaeche.var())\n",
    "\n",
    "# Standardabweichung\n",
    "print(\"Standardabweichung = %.6f\" % np.sqrt(nutzflaecheVarianz))\n",
    "print(\"Kontrolle via pandas:\\nstd\\t%.6f\\n\" % nutzflaeche.std())\n"
   ]
  },
  {
   "cell_type": "markdown",
   "metadata": {},
   "source": [
    "### Aufgabe 1.3 c)"
   ]
  },
  {
   "cell_type": "code",
   "execution_count": 22,
   "metadata": {},
   "outputs": [
    {
     "name": "stdout",
     "output_type": "stream",
     "text": [
      "50%/median \t10.800000\n",
      "Kontrolle via pandas:\n",
      "50%/median\t10.800000\n"
     ]
    }
   ],
   "source": [
    "nutzflaecheSorted = nutzflaeche.sort_values()\n",
    "k = np.round(0.5 * nutzflaeche.size+0.5)-1\n",
    "nutzflaecheMedian = (nutzflaecheSorted[k])\n",
    "print(\"50%%/median \\t%.6f\" % nutzflaecheMedian)\n",
    "print(\"Kontrolle via pandas:\\n50%%/median\\t%.6f\" % nutzflaeche.median())"
   ]
  },
  {
   "cell_type": "markdown",
   "metadata": {},
   "source": [
    "### Aufgabe 1.3 d)"
   ]
  },
  {
   "cell_type": "code",
   "execution_count": 23,
   "metadata": {},
   "outputs": [
    {
     "name": "stdout",
     "output_type": "stream",
     "text": [
      "Mittelwert\t\t12.814286\n",
      "Standardabweichung\t10.679292\n",
      "Median\t\t\t10.800000\n",
      "75% Quantil\t\t17.600000\n",
      "\n",
      "Kontrolle\n"
     ]
    },
    {
     "data": {
      "text/plain": [
       "count    21.000000\n",
       "mean     12.814286\n",
       "std      10.679292\n",
       "min       2.100000\n",
       "25%       4.900000\n",
       "50%      10.800000\n",
       "75%      17.600000\n",
       "max      39.600000\n",
       "dtype: float64"
      ]
     },
     "execution_count": 23,
     "metadata": {},
     "output_type": "execute_result"
    }
   ],
   "source": [
    "print(\"Mittelwert\\t\\t%.6f\" % nutzflaeche.mean())\n",
    "print(\"Standardabweichung\\t%.6f\" % nutzflaeche.std())\n",
    "print(\"Median\\t\\t\\t%.6f\" % nutzflaeche.median())\n",
    "print(\"75%% Quantil\\t\\t%.6f\" % nutzflaeche.quantile(q=.75,interpolation=\"midpoint\"))\n",
    "\n",
    "print(\"\\nKontrolle\")\n",
    "nutzflaeche.describe()"
   ]
  },
  {
   "cell_type": "markdown",
   "metadata": {},
   "source": [
    "### Aufgabe 1.3 e)"
   ]
  },
  {
   "cell_type": "code",
   "execution_count": 24,
   "metadata": {},
   "outputs": [
    {
     "data": {
      "text/plain": [
       "-0.0"
      ]
     },
     "execution_count": 24,
     "metadata": {},
     "output_type": "execute_result"
    }
   ],
   "source": [
    "z = (nutzflaeche-nutzflaeche.mean())/nutzflaeche.std()\n",
    "np.round(z.mean())"
   ]
  },
  {
   "cell_type": "code",
   "execution_count": 25,
   "metadata": {},
   "outputs": [
    {
     "data": {
      "text/plain": [
       "1.0"
      ]
     },
     "execution_count": 25,
     "metadata": {},
     "output_type": "execute_result"
    }
   ],
   "source": [
    "z.std()"
   ]
  },
  {
   "cell_type": "markdown",
   "metadata": {},
   "source": [
    "## Aufgabe 1.4"
   ]
  },
  {
   "cell_type": "markdown",
   "metadata": {},
   "source": [
    "### Aufgabe 1.4 a)"
   ]
  },
  {
   "cell_type": "markdown",
   "metadata": {},
   "source": [
    "1 => b\n",
    "\n",
    "2 => c\n",
    "\n",
    "3 => a"
   ]
  },
  {
   "cell_type": "markdown",
   "metadata": {},
   "source": [
    "## Aufgabe 1.5"
   ]
  },
  {
   "cell_type": "markdown",
   "metadata": {},
   "source": [
    "### Aufgabe 1.5 a)"
   ]
  },
  {
   "cell_type": "code",
   "execution_count": 36,
   "metadata": {},
   "outputs": [
    {
     "data": {
      "text/html": [
       "<div>\n",
       "<style scoped>\n",
       "    .dataframe tbody tr th:only-of-type {\n",
       "        vertical-align: middle;\n",
       "    }\n",
       "\n",
       "    .dataframe tbody tr th {\n",
       "        vertical-align: top;\n",
       "    }\n",
       "\n",
       "    .dataframe thead th {\n",
       "        text-align: right;\n",
       "    }\n",
       "</style>\n",
       "<table border=\"1\" class=\"dataframe\">\n",
       "  <thead>\n",
       "    <tr style=\"text-align: right;\">\n",
       "      <th></th>\n",
       "      <th>Tag</th>\n",
       "      <th>Zeitspanne</th>\n",
       "      <th>Eruptionsdauer</th>\n",
       "    </tr>\n",
       "  </thead>\n",
       "  <tbody>\n",
       "    <tr>\n",
       "      <th>1</th>\n",
       "      <td>1</td>\n",
       "      <td>78</td>\n",
       "      <td>4.4</td>\n",
       "    </tr>\n",
       "    <tr>\n",
       "      <th>2</th>\n",
       "      <td>1</td>\n",
       "      <td>74</td>\n",
       "      <td>3.9</td>\n",
       "    </tr>\n",
       "    <tr>\n",
       "      <th>3</th>\n",
       "      <td>1</td>\n",
       "      <td>68</td>\n",
       "      <td>4.0</td>\n",
       "    </tr>\n",
       "    <tr>\n",
       "      <th>4</th>\n",
       "      <td>1</td>\n",
       "      <td>76</td>\n",
       "      <td>4.0</td>\n",
       "    </tr>\n",
       "    <tr>\n",
       "      <th>5</th>\n",
       "      <td>1</td>\n",
       "      <td>80</td>\n",
       "      <td>3.5</td>\n",
       "    </tr>\n",
       "  </tbody>\n",
       "</table>\n",
       "</div>"
      ],
      "text/plain": [
       "   Tag  Zeitspanne  Eruptionsdauer\n",
       "1    1          78             4.4\n",
       "2    1          74             3.9\n",
       "3    1          68             4.0\n",
       "4    1          76             4.0\n",
       "5    1          80             3.5"
      ]
     },
     "execution_count": 36,
     "metadata": {},
     "output_type": "execute_result"
    }
   ],
   "source": [
    "import pandas as pd\n",
    "import numpy as np\n",
    "import matplotlib.pyplot as plt\n",
    "from pandas import Series,DataFrame\n",
    "\n",
    "geysir = pd.read_table(\"data/geysir.dat\", sep=\" \", index_col=0)\n",
    "geysir.head()"
   ]
  },
  {
   "cell_type": "code",
   "execution_count": 37,
   "metadata": {},
   "outputs": [
    {
     "data": {
      "image/png": "[encoded data removed]",
      "text/plain": [
       "<matplotlib.figure.Figure at 0x110fa5cf8>"
      ]
     },
     "metadata": {},
     "output_type": "display_data"
    }
   ],
   "source": [
    "plt.subplot(221)\n",
    "geysir[\"Zeitspanne\"].plot(kind=\"hist\", edgecolor=\"black\")\n",
    "plt.xlabel(\"10 Klassen\")\n",
    "\n",
    "plt.subplot(222)\n",
    "geysir[\"Zeitspanne\"].plot(kind=\"hist\", bins=20, edgecolor=\"black\")\n",
    "plt.xlabel(\"20 Klassen\")\n",
    "\n",
    "plt.subplot(223)\n",
    "geysir[\"Zeitspanne\"].plot(kind=\"hist\",\n",
    "                          bins=np.arange(41,107,11),\n",
    "                          edgecolor=\"black\")\n",
    "plt.xlabel(\"Klassengrenzen 41, 52 , 63, 74 , 85, 96\")\n",
    "\n",
    "plt.show()"
   ]
  },
  {
   "cell_type": "markdown",
   "metadata": {},
   "source": [
    "### Aufgabe 1.5 b)"
   ]
  },
  {
   "cell_type": "code",
   "execution_count": 38,
   "metadata": {},
   "outputs": [
    {
     "data": {
      "image/png": "[encoded data removed]",
      "text/plain": [
       "<matplotlib.figure.Figure at 0x116a0cda0>"
      ]
     },
     "metadata": {},
     "output_type": "display_data"
    }
   ],
   "source": [
    "plt.subplot(221)\n",
    "geysir[\"Eruptionsdauer\"].plot(kind=\"hist\", bins=5, edgecolor=\"black\")\n",
    "plt.xlabel(\"5 Klassen\")\n",
    "\n",
    "plt.subplot(222)\n",
    "geysir[\"Eruptionsdauer\"].plot(kind=\"hist\", bins=10, edgecolor=\"black\")\n",
    "plt.xlabel(\"10 Klassen\")\n",
    "\n",
    "plt.subplot(223)\n",
    "geysir[\"Eruptionsdauer\"].plot(kind=\"hist\", bins=20, edgecolor=\"black\")\n",
    "plt.xlabel(\"20 Klassen\")\n",
    "\n",
    "plt.subplot(224)\n",
    "geysir[\"Eruptionsdauer\"].plot(kind=\"hist\", bins=30, edgecolor=\"black\")\n",
    "plt.xlabel(\"30 Klassen\")\n",
    "\n",
    "plt.show()"
   ]
  },
  {
   "cell_type": "code",
   "execution_count": 29,
   "metadata": {},
   "outputs": [
    {
     "data": {
      "text/plain": [
       "<matplotlib.axes._subplots.AxesSubplot at 0x119be02e8>"
      ]
     },
     "execution_count": 29,
     "metadata": {},
     "output_type": "execute_result"
    },
    {
     "data": {
      "image/png": "[encoded data removed]",
      "text/plain": [
       "<matplotlib.figure.Figure at 0x117228a20>"
      ]
     },
     "metadata": {},
     "output_type": "display_data"
    }
   ],
   "source": [
    "geysir[\"Eruptionsdauer\"].plot(kind=\"hist\")"
   ]
  },
  {
   "cell_type": "markdown",
   "metadata": {},
   "source": [
    "### Aufgabe 1.5 c)"
   ]
  },
  {
   "cell_type": "code",
   "execution_count": 39,
   "metadata": {},
   "outputs": [
    {
     "data": {
      "text/plain": [
       "<matplotlib.axes._subplots.AxesSubplot at 0x10b062cc0>"
      ]
     },
     "execution_count": 39,
     "metadata": {},
     "output_type": "execute_result"
    },
    {
     "data": {
      "image/png": "[encoded data removed]",
      "text/plain": [
       "<matplotlib.figure.Figure at 0x110fa59e8>"
      ]
     },
     "metadata": {},
     "output_type": "display_data"
    }
   ],
   "source": [
    "geysir[\"Eruptionsdauer\"].plot(kind=\"hist\",normed=True, cumulative=True)"
   ]
  },
  {
   "cell_type": "code",
   "execution_count": null,
   "metadata": {},
   "outputs": [],
   "source": []
  }
 ],
 "metadata": {
  "kernelspec": {
   "display_name": "Python 3",
   "language": "python",
   "name": "python3"
  },
  "language_info": {
   "codemirror_mode": {
    "name": "ipython",
    "version": 3
   },
   "file_extension": ".py",
   "mimetype": "text/x-python",
   "name": "python",
   "nbconvert_exporter": "python",
   "pygments_lexer": "ipython3",
   "version": "3.5.6"
  }
 },
 "nbformat": 4,
 "nbformat_minor": 2
}
