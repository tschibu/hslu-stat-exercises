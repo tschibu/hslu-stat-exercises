{
 "cells": [
  {
   "cell_type": "markdown",
   "metadata": {},
   "source": [
    "# Serie 1"
   ]
  },
  {
   "cell_type": "markdown",
   "metadata": {},
   "source": [
    "## Aufgabe 1.1 "
   ]
  },
  {
   "cell_type": "markdown",
   "metadata": {},
   "source": [
    "### Aufgabe 1.1 a)"
   ]
  },
  {
   "cell_type": "code",
   "execution_count": 1,
   "metadata": {},
   "outputs": [],
   "source": [
    "from pandas import Series, DataFrame\n",
    "import pandas as pd\n",
    "\n",
    "data = pd.read_csv(\"data/child.csv\", sep=\",\", index_col=0)"
   ]
  },
  {
   "cell_type": "markdown",
   "metadata": {},
   "source": [
    "### Aufgabe 1.1 b)"
   ]
  },
  {
   "cell_type": "code",
   "execution_count": 2,
   "metadata": {},
   "outputs": [
    {
     "data": {
      "text/plain": [
       "(30, 21)"
      ]
     },
     "execution_count": 2,
     "metadata": {},
     "output_type": "execute_result"
    }
   ],
   "source": [
    "# Dimension der Daten.\n",
    "data.shape"
   ]
  },
  {
   "cell_type": "markdown",
   "metadata": {},
   "source": [
    "### Aufgabe 1.1 c)"
   ]
  },
  {
   "cell_type": "code",
   "execution_count": 3,
   "metadata": {},
   "outputs": [
    {
     "data": {
      "text/html": [
       "<div>\n",
       "<style scoped>\n",
       "    .dataframe tbody tr th:only-of-type {\n",
       "        vertical-align: middle;\n",
       "    }\n",
       "\n",
       "    .dataframe tbody tr th {\n",
       "        vertical-align: top;\n",
       "    }\n",
       "\n",
       "    .dataframe thead th {\n",
       "        text-align: right;\n",
       "    }\n",
       "</style>\n",
       "<table border=\"1\" class=\"dataframe\">\n",
       "  <thead>\n",
       "    <tr style=\"text-align: right;\">\n",
       "      <th></th>\n",
       "      <th>Average.disposable.income</th>\n",
       "      <th>Children.in.poor.homes</th>\n",
       "      <th>Educational.Deprivation</th>\n",
       "      <th>Overcrowding</th>\n",
       "      <th>Poor.environmental.conditions</th>\n",
       "      <th>Average.mean.literacy.score</th>\n",
       "      <th>Literacy.inequality</th>\n",
       "      <th>Youth.NEET.rate</th>\n",
       "      <th>Low.birth.weight</th>\n",
       "      <th>Infant.mortality</th>\n",
       "      <th>...</th>\n",
       "      <th>Vaccination.rates..pertussis.</th>\n",
       "      <th>Vaccination.rates.measles.</th>\n",
       "      <th>Physical.activity</th>\n",
       "      <th>Mortality.rates</th>\n",
       "      <th>Suicide.rates</th>\n",
       "      <th>Smoking</th>\n",
       "      <th>Drunkenness</th>\n",
       "      <th>Teenage.births</th>\n",
       "      <th>Bullying</th>\n",
       "      <th>Liking.school</th>\n",
       "    </tr>\n",
       "  </thead>\n",
       "  <tbody>\n",
       "    <tr>\n",
       "      <th>count</th>\n",
       "      <td>30.000000</td>\n",
       "      <td>30.000000</td>\n",
       "      <td>30.000000</td>\n",
       "      <td>26.000000</td>\n",
       "      <td>24.000000</td>\n",
       "      <td>30.000000</td>\n",
       "      <td>30.000000</td>\n",
       "      <td>27.000000</td>\n",
       "      <td>30.000000</td>\n",
       "      <td>30.000000</td>\n",
       "      <td>...</td>\n",
       "      <td>29.000000</td>\n",
       "      <td>29.000000</td>\n",
       "      <td>26.000000</td>\n",
       "      <td>29.000000</td>\n",
       "      <td>29.000000</td>\n",
       "      <td>24.000000</td>\n",
       "      <td>24.000000</td>\n",
       "      <td>30.000000</td>\n",
       "      <td>24.000000</td>\n",
       "      <td>25.00000</td>\n",
       "    </tr>\n",
       "    <tr>\n",
       "      <th>mean</th>\n",
       "      <td>18.847713</td>\n",
       "      <td>12.372193</td>\n",
       "      <td>2.673333</td>\n",
       "      <td>31.950163</td>\n",
       "      <td>25.217498</td>\n",
       "      <td>496.317000</td>\n",
       "      <td>1.665085</td>\n",
       "      <td>7.377778</td>\n",
       "      <td>6.643333</td>\n",
       "      <td>5.446667</td>\n",
       "      <td>...</td>\n",
       "      <td>93.775862</td>\n",
       "      <td>91.517241</td>\n",
       "      <td>20.134615</td>\n",
       "      <td>24.598966</td>\n",
       "      <td>6.856272</td>\n",
       "      <td>16.512500</td>\n",
       "      <td>15.225000</td>\n",
       "      <td>15.500000</td>\n",
       "      <td>10.979167</td>\n",
       "      <td>27.17200</td>\n",
       "    </tr>\n",
       "    <tr>\n",
       "      <th>std</th>\n",
       "      <td>7.597219</td>\n",
       "      <td>5.592696</td>\n",
       "      <td>3.315370</td>\n",
       "      <td>21.132363</td>\n",
       "      <td>7.483096</td>\n",
       "      <td>29.381643</td>\n",
       "      <td>0.067391</td>\n",
       "      <td>6.489656</td>\n",
       "      <td>1.728001</td>\n",
       "      <td>4.506756</td>\n",
       "      <td>...</td>\n",
       "      <td>5.317334</td>\n",
       "      <td>5.909138</td>\n",
       "      <td>6.157983</td>\n",
       "      <td>6.745815</td>\n",
       "      <td>3.204545</td>\n",
       "      <td>4.766852</td>\n",
       "      <td>4.301794</td>\n",
       "      <td>13.967326</td>\n",
       "      <td>5.146462</td>\n",
       "      <td>10.39926</td>\n",
       "    </tr>\n",
       "    <tr>\n",
       "      <th>min</th>\n",
       "      <td>3.839462</td>\n",
       "      <td>2.740000</td>\n",
       "      <td>0.400000</td>\n",
       "      <td>10.326503</td>\n",
       "      <td>10.500000</td>\n",
       "      <td>408.670000</td>\n",
       "      <td>1.475432</td>\n",
       "      <td>1.700000</td>\n",
       "      <td>3.900000</td>\n",
       "      <td>2.300000</td>\n",
       "      <td>...</td>\n",
       "      <td>78.000000</td>\n",
       "      <td>74.000000</td>\n",
       "      <td>13.100000</td>\n",
       "      <td>14.840000</td>\n",
       "      <td>1.263026</td>\n",
       "      <td>8.100000</td>\n",
       "      <td>10.000000</td>\n",
       "      <td>3.700000</td>\n",
       "      <td>4.200000</td>\n",
       "      <td>11.70000</td>\n",
       "    </tr>\n",
       "    <tr>\n",
       "      <th>25%</th>\n",
       "      <td>16.617877</td>\n",
       "      <td>8.901475</td>\n",
       "      <td>1.000000</td>\n",
       "      <td>17.058130</td>\n",
       "      <td>20.153506</td>\n",
       "      <td>482.750000</td>\n",
       "      <td>1.623048</td>\n",
       "      <td>4.550000</td>\n",
       "      <td>5.150000</td>\n",
       "      <td>3.525000</td>\n",
       "      <td>...</td>\n",
       "      <td>91.000000</td>\n",
       "      <td>88.000000</td>\n",
       "      <td>15.800000</td>\n",
       "      <td>21.170000</td>\n",
       "      <td>5.036520</td>\n",
       "      <td>14.625000</td>\n",
       "      <td>11.350000</td>\n",
       "      <td>7.050000</td>\n",
       "      <td>7.975000</td>\n",
       "      <td>21.40000</td>\n",
       "    </tr>\n",
       "    <tr>\n",
       "      <th>50%</th>\n",
       "      <td>21.107187</td>\n",
       "      <td>11.659053</td>\n",
       "      <td>1.500000</td>\n",
       "      <td>21.574977</td>\n",
       "      <td>25.487116</td>\n",
       "      <td>501.335000</td>\n",
       "      <td>1.682739</td>\n",
       "      <td>6.200000</td>\n",
       "      <td>6.750000</td>\n",
       "      <td>4.200000</td>\n",
       "      <td>...</td>\n",
       "      <td>95.800000</td>\n",
       "      <td>94.000000</td>\n",
       "      <td>19.300000</td>\n",
       "      <td>23.150000</td>\n",
       "      <td>6.784772</td>\n",
       "      <td>16.600000</td>\n",
       "      <td>14.550000</td>\n",
       "      <td>10.600000</td>\n",
       "      <td>9.650000</td>\n",
       "      <td>25.60000</td>\n",
       "    </tr>\n",
       "    <tr>\n",
       "      <th>75%</th>\n",
       "      <td>22.642722</td>\n",
       "      <td>16.091953</td>\n",
       "      <td>2.200000</td>\n",
       "      <td>44.392351</td>\n",
       "      <td>30.236732</td>\n",
       "      <td>512.835000</td>\n",
       "      <td>1.719012</td>\n",
       "      <td>8.400000</td>\n",
       "      <td>7.500000</td>\n",
       "      <td>5.250000</td>\n",
       "      <td>...</td>\n",
       "      <td>97.800000</td>\n",
       "      <td>96.300000</td>\n",
       "      <td>21.800000</td>\n",
       "      <td>25.750000</td>\n",
       "      <td>8.863713</td>\n",
       "      <td>19.500000</td>\n",
       "      <td>17.925000</td>\n",
       "      <td>17.800000</td>\n",
       "      <td>13.825000</td>\n",
       "      <td>34.90000</td>\n",
       "    </tr>\n",
       "    <tr>\n",
       "      <th>max</th>\n",
       "      <td>34.241822</td>\n",
       "      <td>24.590000</td>\n",
       "      <td>13.700000</td>\n",
       "      <td>73.957667</td>\n",
       "      <td>38.712874</td>\n",
       "      <td>552.670000</td>\n",
       "      <td>1.755798</td>\n",
       "      <td>37.700000</td>\n",
       "      <td>11.300000</td>\n",
       "      <td>23.600000</td>\n",
       "      <td>...</td>\n",
       "      <td>99.800000</td>\n",
       "      <td>99.800000</td>\n",
       "      <td>42.100000</td>\n",
       "      <td>50.230000</td>\n",
       "      <td>15.949567</td>\n",
       "      <td>27.100000</td>\n",
       "      <td>24.800000</td>\n",
       "      <td>65.800000</td>\n",
       "      <td>25.300000</td>\n",
       "      <td>57.40000</td>\n",
       "    </tr>\n",
       "  </tbody>\n",
       "</table>\n",
       "<p>8 rows × 21 columns</p>\n",
       "</div>"
      ],
      "text/plain": [
       "       Average.disposable.income  Children.in.poor.homes  \\\n",
       "count                  30.000000               30.000000   \n",
       "mean                   18.847713               12.372193   \n",
       "std                     7.597219                5.592696   \n",
       "min                     3.839462                2.740000   \n",
       "25%                    16.617877                8.901475   \n",
       "50%                    21.107187               11.659053   \n",
       "75%                    22.642722               16.091953   \n",
       "max                    34.241822               24.590000   \n",
       "\n",
       "       Educational.Deprivation  Overcrowding  Poor.environmental.conditions  \\\n",
       "count                30.000000     26.000000                      24.000000   \n",
       "mean                  2.673333     31.950163                      25.217498   \n",
       "std                   3.315370     21.132363                       7.483096   \n",
       "min                   0.400000     10.326503                      10.500000   \n",
       "25%                   1.000000     17.058130                      20.153506   \n",
       "50%                   1.500000     21.574977                      25.487116   \n",
       "75%                   2.200000     44.392351                      30.236732   \n",
       "max                  13.700000     73.957667                      38.712874   \n",
       "\n",
       "       Average.mean.literacy.score  Literacy.inequality  Youth.NEET.rate  \\\n",
       "count                    30.000000            30.000000        27.000000   \n",
       "mean                    496.317000             1.665085         7.377778   \n",
       "std                      29.381643             0.067391         6.489656   \n",
       "min                     408.670000             1.475432         1.700000   \n",
       "25%                     482.750000             1.623048         4.550000   \n",
       "50%                     501.335000             1.682739         6.200000   \n",
       "75%                     512.835000             1.719012         8.400000   \n",
       "max                     552.670000             1.755798        37.700000   \n",
       "\n",
       "       Low.birth.weight  Infant.mortality      ...        \\\n",
       "count         30.000000         30.000000      ...         \n",
       "mean           6.643333          5.446667      ...         \n",
       "std            1.728001          4.506756      ...         \n",
       "min            3.900000          2.300000      ...         \n",
       "25%            5.150000          3.525000      ...         \n",
       "50%            6.750000          4.200000      ...         \n",
       "75%            7.500000          5.250000      ...         \n",
       "max           11.300000         23.600000      ...         \n",
       "\n",
       "       Vaccination.rates..pertussis.  Vaccination.rates.measles.  \\\n",
       "count                      29.000000                   29.000000   \n",
       "mean                       93.775862                   91.517241   \n",
       "std                         5.317334                    5.909138   \n",
       "min                        78.000000                   74.000000   \n",
       "25%                        91.000000                   88.000000   \n",
       "50%                        95.800000                   94.000000   \n",
       "75%                        97.800000                   96.300000   \n",
       "max                        99.800000                   99.800000   \n",
       "\n",
       "       Physical.activity  Mortality.rates  Suicide.rates    Smoking  \\\n",
       "count          26.000000        29.000000      29.000000  24.000000   \n",
       "mean           20.134615        24.598966       6.856272  16.512500   \n",
       "std             6.157983         6.745815       3.204545   4.766852   \n",
       "min            13.100000        14.840000       1.263026   8.100000   \n",
       "25%            15.800000        21.170000       5.036520  14.625000   \n",
       "50%            19.300000        23.150000       6.784772  16.600000   \n",
       "75%            21.800000        25.750000       8.863713  19.500000   \n",
       "max            42.100000        50.230000      15.949567  27.100000   \n",
       "\n",
       "       Drunkenness  Teenage.births   Bullying  Liking.school  \n",
       "count    24.000000       30.000000  24.000000       25.00000  \n",
       "mean     15.225000       15.500000  10.979167       27.17200  \n",
       "std       4.301794       13.967326   5.146462       10.39926  \n",
       "min      10.000000        3.700000   4.200000       11.70000  \n",
       "25%      11.350000        7.050000   7.975000       21.40000  \n",
       "50%      14.550000       10.600000   9.650000       25.60000  \n",
       "75%      17.925000       17.800000  13.825000       34.90000  \n",
       "max      24.800000       65.800000  25.300000       57.40000  \n",
       "\n",
       "[8 rows x 21 columns]"
      ]
     },
     "execution_count": 3,
     "metadata": {},
     "output_type": "execute_result"
    }
   ],
   "source": [
    "data.describe()"
   ]
  },
  {
   "cell_type": "markdown",
   "metadata": {},
   "source": [
    "### Aufgabe 1.1 d)"
   ]
  },
  {
   "cell_type": "code",
   "execution_count": 4,
   "metadata": {},
   "outputs": [
    {
     "data": {
      "text/plain": [
       "Index(['Australia', 'Austria', 'Belgium', 'Canada', 'Czech Republic',\n",
       "       'Denmark', 'Finland', 'France', 'Germany', 'Greece', 'Hungary',\n",
       "       'Iceland', 'Ireland', 'Italy', 'Japan', 'Korea', 'Luxembourg', 'Mexico',\n",
       "       'Netherlands', 'New Zealand', 'Norway', 'Poland', 'Portugal',\n",
       "       'Slovak Republic', 'Spain', 'Sweden', 'Switzerland', 'Turkey',\n",
       "       'United Kingdom', 'United States'],\n",
       "      dtype='object')"
      ]
     },
     "execution_count": 4,
     "metadata": {},
     "output_type": "execute_result"
    }
   ],
   "source": [
    "# index ausgeben\n",
    "data.index"
   ]
  },
  {
   "cell_type": "markdown",
   "metadata": {},
   "source": [
    "### Aufgabe 1.1 e)"
   ]
  },
  {
   "cell_type": "code",
   "execution_count": 5,
   "metadata": {},
   "outputs": [
    {
     "data": {
      "text/plain": [
       "Index(['Average.disposable.income', 'Children.in.poor.homes',\n",
       "       'Educational.Deprivation', 'Overcrowding',\n",
       "       'Poor.environmental.conditions', 'Average.mean.literacy.score',\n",
       "       'Literacy.inequality', 'Youth.NEET.rate', 'Low.birth.weight',\n",
       "       'Infant.mortality', 'Breastfeeding.rates',\n",
       "       'Vaccination.rates..pertussis.', 'Vaccination.rates.measles.',\n",
       "       'Physical.activity', 'Mortality.rates', 'Suicide.rates', 'Smoking',\n",
       "       'Drunkenness', 'Teenage.births', 'Bullying', 'Liking.school'],\n",
       "      dtype='object')"
      ]
     },
     "execution_count": 5,
     "metadata": {},
     "output_type": "execute_result"
    }
   ],
   "source": [
    "data.columns"
   ]
  },
  {
   "cell_type": "code",
   "execution_count": 6,
   "metadata": {
    "scrolled": true
   },
   "outputs": [
    {
     "data": {
      "text/plain": [
       "Denmark            24.8\n",
       "Finland            22.4\n",
       "United Kingdom     22.1\n",
       "Poland             19.9\n",
       "Canada             18.8\n",
       "Austria            18.6\n",
       "Hungary            17.7\n",
       "Czech Republic     16.8\n",
       "Slovak Republic    16.8\n",
       "Ireland            16.3\n",
       "Spain              16.1\n",
       "Germany            15.1\n",
       "Norway             14.0\n",
       "Belgium            13.9\n",
       "Sweden             13.8\n",
       "Netherlands        12.1\n",
       "Luxembourg         11.7\n",
       "Switzerland        11.4\n",
       "France             11.2\n",
       "Portugal           10.9\n",
       "Iceland            10.5\n",
       "Greece             10.3\n",
       "United States      10.2\n",
       "Italy              10.0\n",
       "Australia           NaN\n",
       "Japan               NaN\n",
       "Korea               NaN\n",
       "Mexico              NaN\n",
       "New Zealand         NaN\n",
       "Turkey              NaN\n",
       "Name: Drunkenness, dtype: float64"
      ]
     },
     "execution_count": 6,
     "metadata": {},
     "output_type": "execute_result"
    }
   ],
   "source": [
    "data.sort_values(by=\"Drunkenness\", ascending=0).loc[:,\"Drunkenness\"]"
   ]
  },
  {
   "cell_type": "markdown",
   "metadata": {},
   "source": [
    "### Aufgabe 1.1 f)"
   ]
  },
  {
   "cell_type": "code",
   "execution_count": 7,
   "metadata": {},
   "outputs": [
    {
     "data": {
      "text/plain": [
       "Denmark           24.8\n",
       "Finland           22.4\n",
       "United Kingdom    22.1\n",
       "Poland            19.9\n",
       "Canada            18.8\n",
       "Name: Drunkenness, dtype: float64"
      ]
     },
     "execution_count": 7,
     "metadata": {},
     "output_type": "execute_result"
    }
   ],
   "source": [
    "data.nlargest(5,\"Drunkenness\").sort_values(by=\"Drunkenness\", ascending=0).loc[:,\"Drunkenness\"]"
   ]
  },
  {
   "cell_type": "code",
   "execution_count": 8,
   "metadata": {},
   "outputs": [
    {
     "data": {
      "text/plain": [
       "Iceland       2.3\n",
       "Sweden        2.4\n",
       "Luxembourg    2.6\n",
       "Name: Infant.mortality, dtype: float64"
      ]
     },
     "execution_count": 8,
     "metadata": {},
     "output_type": "execute_result"
    }
   ],
   "source": [
    "data.nsmallest(3,\"Infant.mortality\").loc[:,\"Infant.mortality\"]"
   ]
  },
  {
   "cell_type": "markdown",
   "metadata": {},
   "source": [
    "### Aufgabe 1.1 g)"
   ]
  },
  {
   "cell_type": "code",
   "execution_count": 9,
   "metadata": {},
   "outputs": [
    {
     "name": "stdout",
     "output_type": "stream",
     "text": [
      "Physical.activity mean = 20.13\n"
     ]
    },
    {
     "data": {
      "text/plain": [
       "Austria           19.6\n",
       "Belgium           19.1\n",
       "France            13.5\n",
       "Germany           17.0\n",
       "Greece            15.5\n",
       "Hungary           19.5\n",
       "Italy             15.1\n",
       "Luxembourg        15.2\n",
       "Mexico            18.1\n",
       "Norway            15.6\n",
       "Poland            17.3\n",
       "Portugal          14.6\n",
       "Sweden            16.4\n",
       "Switzerland       13.1\n",
       "Turkey            20.0\n",
       "United Kingdom    18.7\n",
       "Name: Physical.activity, dtype: float64"
      ]
     },
     "execution_count": 9,
     "metadata": {},
     "output_type": "execute_result"
    }
   ],
   "source": [
    "print(\"Physical.activity mean = %.2f\" % data[\"Physical.activity\"].mean())\n",
    "\n",
    "data.loc[data[\"Physical.activity\"] < data[\"Physical.activity\"].mean(),\"Physical.activity\"]"
   ]
  },
  {
   "cell_type": "markdown",
   "metadata": {},
   "source": [
    "## Aufgabe 1.2"
   ]
  },
  {
   "cell_type": "code",
   "execution_count": null,
   "metadata": {},
   "outputs": [],
   "source": []
  }
 ],
 "metadata": {
  "kernelspec": {
   "display_name": "Python 3",
   "language": "python",
   "name": "python3"
  },
  "language_info": {
   "codemirror_mode": {
    "name": "ipython",
    "version": 3
   },
   "file_extension": ".py",
   "mimetype": "text/x-python",
   "name": "python",
   "nbconvert_exporter": "python",
   "pygments_lexer": "ipython3",
   "version": "3.6.4"
  }
 },
 "nbformat": 4,
 "nbformat_minor": 2
}
