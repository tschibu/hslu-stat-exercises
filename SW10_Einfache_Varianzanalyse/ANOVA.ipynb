{
 "cells": [
  {
   "cell_type": "markdown",
   "metadata": {},
   "source": [
    "# Varianz-Analyse"
   ]
  },
  {
   "cell_type": "markdown",
   "metadata": {},
   "source": [
    "## Stripcharts"
   ]
  },
  {
   "cell_type": "code",
   "execution_count": 1,
   "metadata": {},
   "outputs": [
    {
     "name": "stdout",
     "output_type": "stream",
     "text": [
      "      Treatment  steak_id\n",
      "0   Kommerziell      7.66\n",
      "1   Kommerziell      6.98\n",
      "2   Kommerziell      7.80\n",
      "3        Vakuum      5.26\n",
      "4        Vakuum      5.44\n",
      "5        Vakuum      5.80\n",
      "6      Gemischt      7.41\n",
      "7      Gemischt      7.33\n",
      "8      Gemischt      7.04\n",
      "9           CO2      3.51\n",
      "10          CO2      2.91\n",
      "11          CO2      3.66\n"
     ]
    },
    {
     "data": {
      "text/plain": [
       "Text(0,0.5,'Logarithmus Bakterienzahl')"
      ]
     },
     "execution_count": 1,
     "metadata": {},
     "output_type": "execute_result"
    },
    {
     "data": {
      "image/png": "[encoded data removed]",
      "text/plain": [
       "<matplotlib.figure.Figure at 0x113dd36a0>"
      ]
     },
     "metadata": {},
     "output_type": "display_data"
    }
   ],
   "source": [
    "%matplotlib inline\n",
    "from pandas import DataFrame\n",
    "import pandas as pd\n",
    "import numpy as np\n",
    "import seaborn as sns\n",
    "import scipy.stats as st\n",
    "from statsmodels.formula.api import ols\n",
    "from statsmodels.stats.anova import anova_lm\n",
    "from statsmodels.graphics.factorplots import interaction_plot\n",
    "from statsmodels.stats.outliers_influence import summary_table\n",
    "import matplotlib.pyplot as plt\n",
    "from scipy import stats\n",
    "\n",
    "meat = DataFrame({\n",
    "\"Treatment\": np.repeat([\"Kommerziell\",\"Vakuum\",\"Gemischt\",\"CO2\"], [3, 3, 3, 3]),\n",
    "\"steak_id\":[7.66, 6.98, 7.80, 5.26, 5.44, 5.80, 7.41, 7.33, 7.04, 3.51, 2.91, 3.66]\n",
    "})\n",
    "print(meat)\n",
    "sns.stripplot(x=\"Treatment\", y=\"steak_id\", data=meat)\n",
    "plt.xlabel(\"Verpackungsmethode\")\n",
    "plt.ylabel(\"Logarithmus Bakterienzahl\")"
   ]
  },
  {
   "cell_type": "markdown",
   "metadata": {},
   "source": [
    "## Boxplots"
   ]
  },
  {
   "cell_type": "code",
   "execution_count": 2,
   "metadata": {},
   "outputs": [
    {
     "data": {
      "text/plain": [
       "Text(0,0.5,'Logarithmus Bakterienzahl')"
      ]
     },
     "execution_count": 2,
     "metadata": {},
     "output_type": "execute_result"
    },
    {
     "data": {
      "image/png": "[encoded data removed]",
      "text/plain": [
       "<matplotlib.figure.Figure at 0x10f29b860>"
      ]
     },
     "metadata": {},
     "output_type": "display_data"
    }
   ],
   "source": [
    "sns.boxplot(x=\"Treatment\", y=\"steak_id\", data=meat)\n",
    "plt.xlabel(\"Verpackungsmethode\")\n",
    "plt.ylabel(\"Logarithmus Bakterienzahl\")"
   ]
  },
  {
   "cell_type": "markdown",
   "metadata": {},
   "source": [
    "## Paarweise t-Tests"
   ]
  },
  {
   "cell_type": "code",
   "execution_count": 3,
   "metadata": {},
   "outputs": [
    {
     "name": "stdout",
     "output_type": "stream",
     "text": [
      "0    7.66\n",
      "1    6.98\n",
      "2    7.80\n",
      "Name: steak_id, dtype: float64\n",
      "3    5.26\n",
      "4    5.44\n",
      "5    5.80\n",
      "Name: steak_id, dtype: float64\n",
      "Ttest_indResult(statistic=6.624581090670243, pvalue=0.002693168427673352)\n"
     ]
    }
   ],
   "source": [
    "kommerziell = meat.loc[meat[\"Treatment\"]==\"Kommerziell\", \"steak_id\"]\n",
    "print(kommerziell)\n",
    "vakuum = meat.loc[meat[\"Treatment\"]==\"Vakuum\", \"steak_id\"]\n",
    "print(vakuum)\n",
    "st.ttest_ind(kommerziell, vakuum)\n",
    "print(st.ttest_ind(kommerziell, vakuum))"
   ]
  },
  {
   "cell_type": "markdown",
   "metadata": {},
   "source": [
    "## Gruppenmittelmodell : Summary"
   ]
  },
  {
   "cell_type": "code",
   "execution_count": 4,
   "metadata": {},
   "outputs": [
    {
     "name": "stdout",
     "output_type": "stream",
     "text": [
      "      Treatment  steak_id\n",
      "0   Kommerziell      7.66\n",
      "1   Kommerziell      6.98\n",
      "2   Kommerziell      7.80\n",
      "3        Vakuum      5.26\n",
      "4        Vakuum      5.44\n",
      "5        Vakuum      5.80\n",
      "6      Gemischt      7.41\n",
      "7      Gemischt      7.33\n",
      "8      Gemischt      7.04\n",
      "9           CO2      3.51\n",
      "10          CO2      2.91\n",
      "11          CO2      3.66\n",
      "                            OLS Regression Results                            \n",
      "==============================================================================\n",
      "Dep. Variable:               steak_id   R-squared:                       0.973\n",
      "Model:                            OLS   Adj. R-squared:                  0.962\n",
      "Method:                 Least Squares   F-statistic:                     94.58\n",
      "Date:                Fri, 30 Nov 2018   Prob (F-statistic):           1.38e-06\n",
      "Time:                        11:27:12   Log-Likelihood:                -1.6617\n",
      "No. Observations:                  12   AIC:                             11.32\n",
      "Df Residuals:                       8   BIC:                             13.26\n",
      "Df Model:                           3                                         \n",
      "Covariance Type:            nonrobust                                         \n",
      "============================================================================================\n",
      "                               coef    std err          t      P>|t|      [0.025      0.975]\n",
      "--------------------------------------------------------------------------------------------\n",
      "Intercept                    3.3600      0.197     17.098      0.000       2.907       3.813\n",
      "Treatment[T.Gemischt]        3.9000      0.278     14.033      0.000       3.259       4.541\n",
      "Treatment[T.Kommerziell]     4.1200      0.278     14.825      0.000       3.479       4.761\n",
      "Treatment[T.Vakuum]          2.1400      0.278      7.700      0.000       1.499       2.781\n",
      "==============================================================================\n",
      "Omnibus:                        1.717   Durbin-Watson:                   3.003\n",
      "Prob(Omnibus):                  0.424   Jarque-Bera (JB):                1.176\n",
      "Skew:                          -0.548   Prob(JB):                        0.555\n",
      "Kurtosis:                       1.927   Cond. No.                         4.79\n",
      "==============================================================================\n",
      "\n",
      "Warnings:\n",
      "[1] Standard Errors assume that the covariance matrix of the errors is correctly specified.\n"
     ]
    },
    {
     "name": "stderr",
     "output_type": "stream",
     "text": [
      "/anaconda3/lib/python3.6/site-packages/scipy/stats/stats.py:1394: UserWarning: kurtosistest only valid for n>=20 ... continuing anyway, n=12\n",
      "  \"anyway, n=%i\" % int(n))\n"
     ]
    }
   ],
   "source": [
    "meat = DataFrame({\n",
    "\"Treatment\": np.repeat([\"Kommerziell\",\"Vakuum\",\"Gemischt\",\"CO2\"], [3, 3, 3, 3]),\n",
    "\"steak_id\":[7.66, 6.98, 7.80, 5.26, 5.44, 5.80, 7.41, 7.33, 7.04, 3.51, 2.91, 3.66]\n",
    "})\n",
    "print(meat)\n",
    "fit = ols(\"steak_id~Treatment\",data=meat).fit()\n",
    "\n",
    "fit.summary()\n",
    "print(fit.summary())"
   ]
  },
  {
   "cell_type": "markdown",
   "metadata": {},
   "source": [
    "## Gruppenmittelmodell : Parameterwerte"
   ]
  },
  {
   "cell_type": "code",
   "execution_count": 4,
   "metadata": {},
   "outputs": [
    {
     "name": "stdout",
     "output_type": "stream",
     "text": [
      "Intercept                   3.36\n",
      "Treatment[T.Gemischt]       3.90\n",
      "Treatment[T.Kommerziell]    4.12\n",
      "Treatment[T.Vakuum]         2.14\n",
      "dtype: float64\n"
     ]
    }
   ],
   "source": [
    "\n",
    "meat = DataFrame({\n",
    "\"Treatment\": np.repeat([\"Kommerziell\",\"Vakuum\",\"Gemischt\",\"CO2\"], [3, 3, 3, 3]),\n",
    "\"steak_id\":[7.66, 6.98, 7.80, 5.26, 5.44, 5.80, 7.41, 7.33, 7.04, 3.51, 2.91, 3.66]\n",
    "})\n",
    "\n",
    "fit = ols(\"steak_id~Treatment\",data=meat).fit()\n",
    "\n",
    "fit.params\n",
    "print(fit.params)"
   ]
  },
  {
   "cell_type": "markdown",
   "metadata": {},
   "source": [
    "Die Parametrisierung wurde so gewählt, dass $\\mu=\\mu_1=3.36$, d.h. \n",
    "$\\tau_1=0$.\n",
    "Die behandlungsspezifischen Abweichungen sind $\\tau_2=3.90$, \n",
    "$\\tau_3=4.12$ und $\\tau_4=2.14$. D.h. $\\mu_2=\\mu +\\tau_2 = 3.36+3.90$.\n"
   ]
  },
  {
   "cell_type": "markdown",
   "metadata": {},
   "source": [
    "## Vertrauensintervalle für Gruppenmittelwerte"
   ]
  },
  {
   "cell_type": "code",
   "execution_count": 5,
   "metadata": {},
   "outputs": [
    {
     "name": "stdout",
     "output_type": "stream",
     "text": [
      "      Treatment  steak_id\n",
      "0   Kommerziell      7.66\n",
      "1   Kommerziell      6.98\n",
      "2   Kommerziell      7.80\n",
      "3        Vakuum      5.26\n",
      "4        Vakuum      5.44\n",
      "5        Vakuum      5.80\n",
      "6      Gemischt      7.41\n",
      "7      Gemischt      7.33\n",
      "8      Gemischt      7.04\n",
      "9           CO2      3.51\n",
      "10          CO2      2.91\n",
      "11          CO2      3.66\n",
      "[[7.02684427 7.93315573]\n",
      " [7.02684427 7.93315573]\n",
      " [7.02684427 7.93315573]\n",
      " [5.04684427 5.95315573]\n",
      " [5.04684427 5.95315573]\n",
      " [5.04684427 5.95315573]\n",
      " [6.80684427 7.71315573]\n",
      " [6.80684427 7.71315573]\n",
      " [6.80684427 7.71315573]\n",
      " [2.90684427 3.81315573]\n",
      " [2.90684427 3.81315573]\n",
      " [2.90684427 3.81315573]]\n"
     ]
    }
   ],
   "source": [
    "fit_pred = fit.get_prediction()\n",
    "print(meat)\n",
    "print(fit_pred.conf_int())"
   ]
  },
  {
   "cell_type": "markdown",
   "metadata": {},
   "source": [
    "Python gibt hier direkt die Vertrauensintervalle der Gruppenmittelwerte $\\mu_i$ an und nicht die Vertrauensintervalle der behandlungsspezifischen Abweichungen."
   ]
  },
  {
   "cell_type": "markdown",
   "metadata": {},
   "source": [
    "## Simulation F-Statistik"
   ]
  },
  {
   "cell_type": "markdown",
   "metadata": {},
   "source": [
    "\n",
    "Die Verteilung der Teststatistik für das Beispiel Verpackung von Fleisch kann auch simuliert werden. Dazu wurde ein lineares Regressionsmodell angepasst. Unter der Nullhyothese müssten alle Beobachtungen normalverteilt sein mit Mittelwert gleich 3.3600 (Mittelwert der Anzahl Bakterien) und Standardabweichung 0.55 (Residual standard deviation im Describe-Output). \n",
    "\n",
    "In der Simulation werden pro Simulationsschritt 12 Zufallszahlen gemäss dieser Normalverteilung mit Erwartungswert $3.36$ und Standardabweichung $0.34$ gezogen. Anschliessend wird damit die Teststatistik berechnet, wobei die simulierten Zufallszahlen zufällig auf die 4 Behandlungsgruppen (Verpackungsarten) aufgeteilt werden."
   ]
  },
  {
   "cell_type": "code",
   "execution_count": 6,
   "metadata": {},
   "outputs": [
    {
     "data": {
      "image/png": "[encoded data removed]",
      "text/plain": [
       "<matplotlib.figure.Figure at 0x119a350f0>"
      ]
     },
     "metadata": {},
     "output_type": "display_data"
    }
   ],
   "source": [
    "from pandas import DataFrame\n",
    "import pandas as pd\n",
    "import numpy as np\n",
    "import seaborn as sns\n",
    "import scipy.stats as st\n",
    "from statsmodels.formula.api import ols\n",
    "from statsmodels.stats.anova import anova_lm\n",
    "from statsmodels.graphics.factorplots import interaction_plot\n",
    "from statsmodels.stats.outliers_influence import summary_table\n",
    "import matplotlib.pyplot as plt\n",
    "\n",
    "\n",
    "n = 12\n",
    "g = 4\n",
    "m = 3\n",
    "\n",
    "Fstat = np.empty(1000)\n",
    "\n",
    "for i in np.arange(1000):\n",
    "    meat_sim = st.norm.rvs(size=n, loc=3.3600, scale=0.34)\n",
    "    meat_mat = np.reshape(meat_sim,(-1,4))\n",
    "    grand_mean = np.mean(meat_sim)\n",
    "    group_mean = np.mean(meat_mat,axis=0)\n",
    "    MSG = m*np.sum((group_mean-grand_mean)**2)/(g-1)\n",
    "    MSE = np.sum(np.sum((meat_mat-group_mean)**2,axis=0))/(n-g)\n",
    "    Fstat[i] = MSG/MSE\n",
    "   \n",
    " \n",
    "sns.distplot(Fstat,kde=False, norm_hist=True, hist_kws=dict(edgecolor=\"black\", linewidth=2))\n",
    "x = np.linspace(0.01,4,num=500)\n",
    "y = st.f.pdf(x=x, dfn=3, dfd=8)\n",
    "\n",
    "plt.plot(x,y) \n",
    "\n",
    "plt.xlabel(\"Fstat\")\n",
    "\n",
    "plt.show()"
   ]
  },
  {
   "cell_type": "markdown",
   "metadata": {},
   "source": [
    "# Anova Tabelle"
   ]
  },
  {
   "cell_type": "code",
   "execution_count": 8,
   "metadata": {},
   "outputs": [
    {
     "name": "stdout",
     "output_type": "stream",
     "text": [
      "            df   sum_sq   mean_sq          F    PR(>F)\n",
      "Treatment  3.0  32.8728  10.95760  94.584376  0.000001\n",
      "Residual   8.0   0.9268   0.11585        NaN       NaN\n"
     ]
    },
    {
     "name": "stderr",
     "output_type": "stream",
     "text": [
      "/Users/tluscre1/Applications/anaconda3/lib/python3.6/site-packages/scipy/stats/_distn_infrastructure.py:879: RuntimeWarning: invalid value encountered in greater\n",
      "  return (self.a < x) & (x < self.b)\n",
      "/Users/tluscre1/Applications/anaconda3/lib/python3.6/site-packages/scipy/stats/_distn_infrastructure.py:879: RuntimeWarning: invalid value encountered in less\n",
      "  return (self.a < x) & (x < self.b)\n",
      "/Users/tluscre1/Applications/anaconda3/lib/python3.6/site-packages/scipy/stats/_distn_infrastructure.py:1821: RuntimeWarning: invalid value encountered in less_equal\n",
      "  cond2 = cond0 & (x <= self.a)\n"
     ]
    }
   ],
   "source": [
    "fit = ols(\"steak_id~Treatment\",data=meat).fit()\n",
    "anova_lm(fit)\n",
    "print(anova_lm(fit))"
   ]
  },
  {
   "cell_type": "markdown",
   "metadata": {},
   "source": [
    "Der $P$-Wert von  $1\\cdot 10^{-6}$ besagt, dass ein Effekt von unterschiedlichen \n",
    "Verpackungsmethoden signifikant auf dem 5% Niveau nachgewiesen \n",
    "werden kann. Die Gruppenmittelwerte unterscheiden sich also signifikant."
   ]
  }
 ],
 "metadata": {
  "anaconda-cloud": {},
  "kernelspec": {
   "display_name": "Python 3",
   "language": "python",
   "name": "python3"
  },
  "language_info": {
   "codemirror_mode": {
    "name": "ipython",
    "version": 3
   },
   "file_extension": ".py",
   "mimetype": "text/x-python",
   "name": "python",
   "nbconvert_exporter": "python",
   "pygments_lexer": "ipython3",
   "version": "3.6.4"
  }
 },
 "nbformat": 4,
 "nbformat_minor": 1
}
