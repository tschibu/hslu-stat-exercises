{
 "cells": [
  {
   "cell_type": "markdown",
   "metadata": {},
   "source": [
    "# Serie 10"
   ]
  },
  {
   "cell_type": "markdown",
   "metadata": {},
   "source": [
    "## Aufgabe 1"
   ]
  },
  {
   "cell_type": "code",
   "execution_count": 1,
   "metadata": {},
   "outputs": [],
   "source": [
    "from pandas import DataFrame\n",
    "import pandas as pd\n",
    "import numpy as np\n",
    "import seaborn as sns\n",
    "import matplotlib.pyplot as plt\n",
    "import scipy.stats as st\n",
    "from statsmodels.formula.api import ols\n",
    "from statsmodels.stats.anova import anova_lm\n",
    "\n",
    "\n",
    "df = DataFrame({\n",
    "    \"Typ\": np.repeat([\"TYP1\", \"TYP2\", \"TYP3\", \"TYP4\"], [6, 6, 6, 6]),\n",
    "    \"Druckfestigkeit\": [655.5, 788.3, 734.3, 721.4, 679.1, 699.4,\n",
    "                        789.2, 772.5, 786.9, 686.1, 732.1, 774.8,\n",
    "                        737.1, 639.0, 696.3, 671.7, 717.2, 727.1,\n",
    "                        535.1, 628.7, 542.4, 559.0, 586.9, 520.0]\n",
    "})"
   ]
  },
  {
   "cell_type": "markdown",
   "metadata": {},
   "source": [
    "Aufgabe 1 - a)"
   ]
  },
  {
   "cell_type": "code",
   "execution_count": 2,
   "metadata": {},
   "outputs": [
    {
     "data": {
      "image/png": "[encoded data removed]",
      "text/plain": [
       "<matplotlib.figure.Figure at 0x1a10f2f6a0>"
      ]
     },
     "metadata": {},
     "output_type": "display_data"
    },
    {
     "data": {
      "image/png": "[encoded data removed]",
      "text/plain": [
       "<matplotlib.figure.Figure at 0x109e9f7b8>"
      ]
     },
     "metadata": {},
     "output_type": "display_data"
    }
   ],
   "source": [
    "sns.stripplot(x=\"Typ\", y=\"Druckfestigkeit\", data=df)\n",
    "plt.xlabel(\"Typ\")\n",
    "plt.ylabel(\"Druckfestigkeit\")\n",
    "plt.show()\n",
    "    \n",
    "sns.boxplot(x=\"Typ\", y=\"Druckfestigkeit\", data=df)\n",
    "plt.xlabel(\"Typ\")\n",
    "plt.ylabel(\"Druckfestigkeit\")\n",
    "plt.show()"
   ]
  },
  {
   "cell_type": "markdown",
   "metadata": {},
   "source": [
    "### Aufgabe b)"
   ]
  },
  {
   "cell_type": "code",
   "execution_count": 3,
   "metadata": {},
   "outputs": [
    {
     "name": "stdout",
     "output_type": "stream",
     "text": [
      "                            OLS Regression Results                            \n",
      "==============================================================================\n",
      "Dep. Variable:        Druckfestigkeit   R-squared:                       0.790\n",
      "Model:                            OLS   Adj. R-squared:                  0.759\n",
      "Method:                 Least Squares   F-statistic:                     25.09\n",
      "Date:                Fri, 30 Nov 2018   Prob (F-statistic):           5.53e-07\n",
      "Time:                        15:14:06   Log-Likelihood:                -121.07\n",
      "No. Observations:                  24   AIC:                             250.1\n",
      "Df Residuals:                      20   BIC:                             254.9\n",
      "Df Model:                           3                                         \n",
      "Covariance Type:            nonrobust                                         \n",
      "===============================================================================\n",
      "                  coef    std err          t      P>|t|      [0.025      0.975]\n",
      "-------------------------------------------------------------------------------\n",
      "Intercept     713.0000     16.793     42.459      0.000     677.971     748.029\n",
      "Typ[T.TYP2]    43.9333     23.748      1.850      0.079      -5.605      93.471\n",
      "Typ[T.TYP3]   -14.9333     23.748     -0.629      0.537     -64.471      34.605\n",
      "Typ[T.TYP4]  -150.9833     23.748     -6.358      0.000    -200.521    -101.445\n",
      "==============================================================================\n",
      "Omnibus:                        0.228   Durbin-Watson:                   2.382\n",
      "Prob(Omnibus):                  0.892   Jarque-Bera (JB):                0.426\n",
      "Skew:                          -0.014   Prob(JB):                        0.808\n",
      "Kurtosis:                       2.348   Cond. No.                         4.79\n",
      "==============================================================================\n",
      "\n",
      "Warnings:\n",
      "[1] Standard Errors assume that the covariance matrix of the errors is correctly specified.\n",
      "Intercept      713.000000\n",
      "Typ[T.TYP2]     43.933333\n",
      "Typ[T.TYP3]    -14.933333\n",
      "Typ[T.TYP4]   -150.983333\n",
      "dtype: float64\n"
     ]
    }
   ],
   "source": [
    "fit = ols(\"Druckfestigkeit~Typ\",data=df).fit()\n",
    "fit.summary()\n",
    "print(fit.summary())\n",
    "print(fit.params)"
   ]
  },
  {
   "cell_type": "markdown",
   "metadata": {},
   "source": [
    "### Aufgabe c)"
   ]
  },
  {
   "cell_type": "code",
   "execution_count": 4,
   "metadata": {},
   "outputs": [
    {
     "name": "stdout",
     "output_type": "stream",
     "text": [
      "            df         sum_sq       mean_sq          F        PR(>F)\n",
      "Typ        3.0  127374.754583  42458.251528  25.094289  5.525450e-07\n",
      "Residual  20.0   33838.975000   1691.948750        NaN           NaN\n"
     ]
    },
    {
     "name": "stderr",
     "output_type": "stream",
     "text": [
      "/Users/tluscre1/Applications/anaconda3/lib/python3.6/site-packages/scipy/stats/_distn_infrastructure.py:879: RuntimeWarning: invalid value encountered in greater\n",
      "  return (self.a < x) & (x < self.b)\n",
      "/Users/tluscre1/Applications/anaconda3/lib/python3.6/site-packages/scipy/stats/_distn_infrastructure.py:879: RuntimeWarning: invalid value encountered in less\n",
      "  return (self.a < x) & (x < self.b)\n",
      "/Users/tluscre1/Applications/anaconda3/lib/python3.6/site-packages/scipy/stats/_distn_infrastructure.py:1821: RuntimeWarning: invalid value encountered in less_equal\n",
      "  cond2 = cond0 & (x <= self.a)\n"
     ]
    }
   ],
   "source": [
    "anova_lm(fit)\n",
    "print(anova_lm(fit))"
   ]
  },
  {
   "cell_type": "markdown",
   "metadata": {},
   "source": [
    "Es gibt satistische Evidenz dafür, dass mid. ein Typ signifikat unterscheidet hat."
   ]
  }
 ],
 "metadata": {
  "kernelspec": {
   "display_name": "Python 3",
   "language": "python",
   "name": "python3"
  },
  "language_info": {
   "codemirror_mode": {
    "name": "ipython",
    "version": 3
   },
   "file_extension": ".py",
   "mimetype": "text/x-python",
   "name": "python",
   "nbconvert_exporter": "python",
   "pygments_lexer": "ipython3",
   "version": "3.6.4"
  }
 },
 "nbformat": 4,
 "nbformat_minor": 2
}
