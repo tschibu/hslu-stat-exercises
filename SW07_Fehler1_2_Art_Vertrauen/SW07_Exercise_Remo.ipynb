{
 "cells": [
  {
   "cell_type": "code",
   "execution_count": 5,
   "metadata": {},
   "outputs": [],
   "source": [
    "import pandas as pd\n",
    "import numpy as np\n",
    "from pandas import Series, DataFrame\n",
    "import matplotlib.pyplot as plt\n",
    "from scipy.stats import uniform, expon, norm, t"
   ]
  },
  {
   "cell_type": "markdown",
   "metadata": {},
   "source": [
    "# Serie 7"
   ]
  },
  {
   "cell_type": "markdown",
   "metadata": {},
   "source": [
    "## Aufgabe 7.1"
   ]
  },
  {
   "cell_type": "markdown",
   "metadata": {},
   "source": [
    "### Aufgabe 7.1 - a)"
   ]
  },
  {
   "cell_type": "code",
   "execution_count": 46,
   "metadata": {},
   "outputs": [
    {
     "name": "stdout",
     "output_type": "stream",
     "text": [
      "[216 108 200 137 272 173 282 216 117 261 110 235 252 105 282 130 105 288\n",
      "  96 255 108 105 207 184 272 216 118 245 231 266 258 268 202 242 230 121\n",
      " 112 290 110 287 261 113 274 105 272 199 230 126 278 120 288 283 110 290\n",
      " 104 293 223 100 274 259 134 270 105 288 109 264 250 282 124 282 242 118\n",
      " 270 240 119 304 121 274 233 216 248 260 246 158 244 296 237 271 130 240\n",
      " 132 260 112 289 110 258 280 225 112 294 149 262 126 270 243 112 282 107\n",
      " 291 221 284 138 294 265 102 278 139 276 109 265 157 244 255 118 276 226\n",
      " 115 270 136 279 112 250 168 260 110 263 113 296 122 224 254 134 272 289\n",
      " 260 119 278 121 306 108 302 240 144 276 214 240 270 245 108 238 132 249\n",
      " 120 230 210 275 142 300 116 277 115 125 275 200 250 260 270 145 240 250\n",
      " 113 275 255 226 122 266 245 110 265 131 288 110 288 246 238 254 210 262\n",
      " 135 280 126 261 248 112 276 107 262 231 116 270 143 282 112 230 205 254\n",
      " 144 288 120 249 112 256 105 269 240 247 245 256 235 273 245 145 251 133\n",
      " 267 113 111 257 237 140 249 141 296 174 275 230 125 262 128 261 132 267\n",
      " 214 270 249 229 235 267 120 257 286 272 111 255 119 135 285 247 129 265\n",
      " 109 268]\n",
      "mean = 209.2684\n",
      "Vertrauensintervall:  [199.996375 218.962125]\n"
     ]
    }
   ],
   "source": [
    "x = np.loadtxt(\"data/oldfaithful.txt\", dtype=int)\n",
    "print(x)\n",
    "n = np.mean(x)\n",
    "print (\"mean = %.4f\" % n)\n",
    "\n",
    "nboot = 1000\n",
    "n = 200\n",
    "\n",
    "tmpdata = np.random.choice(x, n*nboot, replace=True)\n",
    "\n",
    "bootstrapsample = np.reshape(tmpdata, (n, nboot))\n",
    "xbarstar = np.mean(bootstrapsample, axis=0)\n",
    "\n",
    "d = np.percentile(xbarstar, q=[2.5, 97.5])\n",
    "print('Vertrauensintervall: ',d)"
   ]
  },
  {
   "cell_type": "markdown",
   "metadata": {},
   "source": [
    "### Aufgabe 7.1 - b)"
   ]
  },
  {
   "cell_type": "code",
   "execution_count": 50,
   "metadata": {},
   "outputs": [
    {
     "name": "stdout",
     "output_type": "stream",
     "text": [
      "[216 108 200 137 272 173 282 216 117 261 110 235 252 105 282 130 105 288\n",
      "  96 255 108 105 207 184 272 216 118 245 231 266 258 268 202 242 230 121\n",
      " 112 290 110 287 261 113 274 105 272 199 230 126 278 120 288 283 110 290\n",
      " 104 293 223 100 274 259 134 270 105 288 109 264 250 282 124 282 242 118\n",
      " 270 240 119 304 121 274 233 216 248 260 246 158 244 296 237 271 130 240\n",
      " 132 260 112 289 110 258 280 225 112 294 149 262 126 270 243 112 282 107\n",
      " 291 221 284 138 294 265 102 278 139 276 109 265 157 244 255 118 276 226\n",
      " 115 270 136 279 112 250 168 260 110 263 113 296 122 224 254 134 272 289\n",
      " 260 119 278 121 306 108 302 240 144 276 214 240 270 245 108 238 132 249\n",
      " 120 230 210 275 142 300 116 277 115 125 275 200 250 260 270 145 240 250\n",
      " 113 275 255 226 122 266 245 110 265 131 288 110 288 246 238 254 210 262\n",
      " 135 280 126 261 248 112 276 107 262 231 116 270 143 282 112 230 205 254\n",
      " 144 288 120 249 112 256 105 269 240 247 245 256 235 273 245 145 251 133\n",
      " 267 113 111 257 237 140 249 141 296 174 275 230 125 262 128 261 132 267\n",
      " 214 270 249 229 235 267 120 257 286 272 111 255 119 135 285 247 129 265\n",
      " 109 268]\n",
      "mean = 240.0000\n",
      "Vertrauensintervall:  [200.56166667 217.91364583]\n"
     ]
    }
   ],
   "source": [
    "x = np.loadtxt(\"data/oldfaithful.txt\", dtype=int)\n",
    "print(x)\n",
    "n = np.median(x)\n",
    "print (\"mean = %.4f\" % n)\n",
    "\n",
    "nboot = 1000\n",
    "n = 240\n",
    "\n",
    "tmpdata = np.random.choice(x, n*nboot, replace=True)\n",
    "\n",
    "bootstrapsample = np.reshape(tmpdata, (n, nboot))\n",
    "xbarstar = np.mean(bootstrapsample, axis=0)\n",
    "\n",
    "d = np.percentile(xbarstar, q=[2.5, 97.5])\n",
    "print('Vertrauensintervall: ',d)"
   ]
  },
  {
   "cell_type": "markdown",
   "metadata": {},
   "source": [
    "### Aufgabe 7.1 - c)"
   ]
  },
  {
   "cell_type": "code",
   "execution_count": 67,
   "metadata": {},
   "outputs": [
    {
     "name": "stdout",
     "output_type": "stream",
     "text": [
      "0.232\n"
     ]
    }
   ],
   "source": [
    "n = x.size\n",
    "nboot = 1000\n",
    "tmpdata = np.random.choice(x, n * nboot, replace=True)\n",
    "\n",
    "bootstrapsample = np.reshape(tmpdata, (n, nboot))\n",
    "xbarstar = np.mean(bootstrapsample, axis=0) - np.mean(x)\n",
    "l = np.sum(xbarstar < -5)\n",
    "u = np.sum(xbarstar > 5)\n",
    "ratio = (l+u)/nboot\n",
    "print(ratio)"
   ]
  },
  {
   "cell_type": "code",
   "execution_count": null,
   "metadata": {},
   "outputs": [],
   "source": []
  }
 ],
 "metadata": {
  "kernelspec": {
   "display_name": "Python 3",
   "language": "python",
   "name": "python3"
  },
  "language_info": {
   "codemirror_mode": {
    "name": "ipython",
    "version": 3
   },
   "file_extension": ".py",
   "mimetype": "text/x-python",
   "name": "python",
   "nbconvert_exporter": "python",
   "pygments_lexer": "ipython3",
   "version": "3.6.4"
  }
 },
 "nbformat": 4,
 "nbformat_minor": 2
}
