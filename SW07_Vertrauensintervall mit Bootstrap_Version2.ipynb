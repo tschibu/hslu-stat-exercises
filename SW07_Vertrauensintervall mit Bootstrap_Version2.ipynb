{
 "cells": [
  {
   "cell_type": "markdown",
   "metadata": {},
   "source": [
    "# Konstruktion Vertrauensintervall mit Bootstrap"
   ]
  },
  {
   "cell_type": "markdown",
   "metadata": {},
   "source": [
    "Die Grundidee beim Bootstrap ist, dass aus einer Messreihe durch Resampling (zufälliges Generieren von Stichproben aus dieser Messreihe) Informationen über die Messreihe gewonnen werden können, wie zum Beispiel über die Unsicherheit der Schätzung des Erwartungswertes durch den Mittelwert. \n",
    "\n",
    "Wir betrachten eine Messreihe, die einer unbekannten Verteilung folgt und einen unbekannten Erwartungswert $ \\mu $ hat.\n",
    "\n",
    "Wir nennen die unbekannte Verteilung $ F $, und wir können den Mittelwert $ \\overline{x} $ der Messreihe als Punktschätzung von $ \\mu $ betrachten. Aber wie gut ist diese Schätzung? D.h. wie gross ist die mit dieser Schätzung verbundene Unsicherheit?"
   ]
  },
  {
   "cell_type": "markdown",
   "metadata": {},
   "source": [
    "Im Folgenden betrachten wir die Messreihe `methode_B`. Beim Bootstrap wird eine zufällige Stichprobe durch Resampling aus der Messreihe `methode_B` gewonnen. Wir nennen diese zufällige Stichprobe _bootstrap sample_.\n",
    "\n",
    "Das `Bootstrap sample` hat dieselbe Länge $ n $ wie die ursprüngliche Messreihe. Da der Standardfehler von der Länge der Messreihe abhängt, wird ein Bootstrap Sample mit derselben Länge gewählt."
   ]
  },
  {
   "cell_type": "code",
   "execution_count": 13,
   "metadata": {},
   "outputs": [
    {
     "name": "stdout",
     "output_type": "stream",
     "text": [
      "Arithmetisches Mittel von Messreihe Methode B: 79.97874999999999\n",
      "Bootstrap Sample :  [80.03 79.97 79.97 ... 79.95 79.94 79.97]\n",
      "Arithmetisches Mittel von Bootstrap Sample: 79.97881750000002\n"
     ]
    }
   ],
   "source": [
    "import numpy as np\n",
    "np.random.seed(1) \n",
    "methode_B = np.array([80.02, 79.94, 79.98, 79.97, 79.97, 80.03, 79.95, \n",
    "79.97])\n",
    "\n",
    "# Arithmetisches Mittel der Messreihe methode_B\n",
    "print('Arithmetisches Mittel von Messreihe Methode B:', methode_B.mean())\n",
    "\n",
    "# Länge n der Messreihe methode_B\n",
    "n = methode_B.size \n",
    "\n",
    "# Anzahl Bootstrap samples\n",
    "bootstrap_sample = np.random.choice(methode_B, n*nboot, replace=True)\n",
    "\n",
    "bootstrap_sample\n",
    "print('Bootstrap Sample : ' , bootstrap_sample)\n",
    "# Arithmetisches Mittel des Bootstrap Sample\n",
    "print('Arithmetisches Mittel von Bootstrap Sample:' , bootstrap_sample.mean())"
   ]
  },
  {
   "cell_type": "markdown",
   "metadata": {},
   "source": [
    "Mit `Python` erzeugen wir 20 Bootstrap_Samples, alle mit der Länge $ 10 $. Jede der 20 Spalten im folgenden Array ist ein Bootstrap-Sample."
   ]
  },
  {
   "cell_type": "code",
   "execution_count": 14,
   "metadata": {},
   "outputs": [
    {
     "data": {
      "text/plain": [
       "array([[79.97, 79.97, 79.95, 80.02, 79.97, 79.98, 80.02, 79.95, 79.98,\n",
       "        79.97, 80.02, 80.02, 79.97, 79.97, 80.03, 79.94, 79.97, 79.98,\n",
       "        80.02, 79.95],\n",
       "       [79.94, 79.98, 79.97, 79.97, 79.97, 79.97, 80.02, 79.97, 79.97,\n",
       "        80.02, 79.94, 79.98, 79.94, 79.97, 79.97, 79.98, 80.02, 80.03,\n",
       "        79.94, 79.97],\n",
       "       [80.02, 79.98, 79.97, 79.97, 79.95, 79.95, 79.97, 79.97, 80.02,\n",
       "        80.02, 79.94, 80.03, 79.95, 80.03, 80.02, 79.97, 79.97, 79.94,\n",
       "        80.02, 79.97],\n",
       "       [80.03, 79.94, 79.95, 79.95, 79.98, 80.03, 79.97, 79.94, 79.97,\n",
       "        80.03, 79.97, 80.02, 79.98, 79.97, 79.97, 80.03, 79.94, 79.98,\n",
       "        79.98, 80.03],\n",
       "       [79.97, 79.97, 79.97, 79.97, 79.97, 79.97, 79.97, 79.97, 79.97,\n",
       "        79.97, 80.02, 79.98, 79.94, 79.97, 79.94, 79.98, 79.97, 79.97,\n",
       "        80.03, 79.98],\n",
       "       [79.95, 80.03, 79.97, 79.97, 79.98, 79.97, 79.95, 79.97, 79.94,\n",
       "        80.02, 79.97, 79.97, 79.95, 79.98, 80.03, 79.95, 79.97, 79.98,\n",
       "        79.97, 79.97],\n",
       "       [79.95, 79.97, 80.03, 79.97, 80.03, 80.02, 80.03, 79.98, 79.98,\n",
       "        79.95, 79.97, 79.97, 79.97, 79.98, 79.94, 79.95, 79.95, 79.97,\n",
       "        79.97, 80.02],\n",
       "       [79.98, 80.02, 79.98, 79.97, 79.94, 80.03, 79.95, 79.98, 79.94,\n",
       "        79.97, 79.97, 79.97, 79.94, 79.98, 79.94, 79.97, 79.97, 79.97,\n",
       "        79.95, 79.97]])"
      ]
     },
     "execution_count": 14,
     "metadata": {},
     "output_type": "execute_result"
    }
   ],
   "source": [
    "# Anzahl Bootstrap Samples\n",
    "nboot = 20\n",
    "# 20 Bootstrap Samples werden in einem array mit 20 Spalten und 8 Zeilen angeordnet\n",
    "bootstrap_sample = np.random.choice(methode_B, n*nboot, replace=True)\n",
    "bootstrap_sample_array = np.reshape(bootstrap_sample, (n, nboot))\n",
    "bootstrap_sample_array"
   ]
  },
  {
   "cell_type": "markdown",
   "metadata": {},
   "source": [
    "Wir berechnen nun die Mittelwerte in allen Spalten und ordnen Sie der Reihen nach:"
   ]
  },
  {
   "cell_type": "code",
   "execution_count": 15,
   "metadata": {},
   "outputs": [
    {
     "name": "stdout",
     "output_type": "stream",
     "text": [
      "[79.955   79.96625 79.97    79.97125 79.97125 79.97375 79.97375 79.97375\n",
      " 79.975   79.97625 79.9775  79.98    79.98125 79.9825  79.9825  79.985\n",
      " 79.985   79.99    79.9925  79.99375]\n"
     ]
    }
   ],
   "source": [
    "# Mittelwerte der Datenpunkte entlang den Spalten werden mit Argument axis=0 berechnet\n",
    "xbarstar = bootstrap_sample_array.mean(axis=0)\n",
    "\n",
    "np.sort(xbarstar)\n",
    "print(np.sort(xbarstar))"
   ]
  },
  {
   "cell_type": "markdown",
   "metadata": {},
   "source": [
    "Beim 95%-Bootstrap-Vertrauensintervall wählen wir die _mittleren_ 95% dieser Daten. Diese werden durch die 2.5%- und 97.5%-Quantile begrenzt. "
   ]
  },
  {
   "cell_type": "code",
   "execution_count": 16,
   "metadata": {},
   "outputs": [
    {
     "name": "stdout",
     "output_type": "stream",
     "text": [
      "Vertrauensintervall:  [79.96034375 79.99315625]\n"
     ]
    }
   ],
   "source": [
    "d = np.percentile(xbarstar, q=[2.5, 97.5])\n",
    "print('Vertrauensintervall: ',d)"
   ]
  },
  {
   "cell_type": "markdown",
   "metadata": {},
   "source": [
    "Wir können auch 10000 Bootstrap-Stichproben erzeugen, womit wir wesentlich genauere Abschätzungen für das 95%-Bootstrap-Vertrauensintervall erhalten.\n"
   ]
  },
  {
   "cell_type": "code",
   "execution_count": 17,
   "metadata": {},
   "outputs": [
    {
     "name": "stdout",
     "output_type": "stream",
     "text": [
      "Vertrauensintervall:  [79.96 80.  ]\n"
     ]
    }
   ],
   "source": [
    "# Anzahl Bootstrap Samples+\n",
    "nboot = 10000\n",
    "# Wir ordnen die 10'000 Bootstrap Samples in einem array mit 10'000 Spalten an\n",
    "bootstrap_sample = np.random.choice(methode_B, n*nboot, replace=True)\n",
    "bootstrap_sample_array = np.reshape(bootstrap_sample, (n, nboot))\n",
    "# Wir berechnen für jedes Bootstrap Sample den Mittelwert\n",
    "xbarstar = bootstrap_sample_array.mean(axis=0)\n",
    "# Wir erhalten das Vertrauensintervall, indem wir die Intervallsgrenzen der mittleren 95% \n",
    "# der Mittelwerte betrachten\n",
    "d = np.percentile(xbarstar, q=[2.5, 97.5])\n",
    "print('Vertrauensintervall: ',d)"
   ]
  },
  {
   "cell_type": "markdown",
   "metadata": {},
   "source": [
    "Wir simulieren nun Daten, deren wahres $ \\mu $ wir kennen. Dazu wählen wir 100 Zufallszahlen, die der Verteilung $ \\mathcal{N}(40,5^{2}) $ folgen. Das wahre $ \\mu $ ist also 40. Wir können uns nun fragen, ob dieses $ \\mu $ nun im entsprechenden 95% Bootstrap-Vertrauensintervall liegt oder nicht. "
   ]
  },
  {
   "cell_type": "code",
   "execution_count": 20,
   "metadata": {},
   "outputs": [
    {
     "name": "stdout",
     "output_type": "stream",
     "text": [
      "Vertrauensintervall:  [39.98553204 41.38968483]\n"
     ]
    }
   ],
   "source": [
    "import numpy as np\n",
    "\n",
    "x = np.random.normal(loc=40,scale=5,size=100)\n",
    "\n",
    "n = x.size \n",
    "\n",
    "np.random.seed(8)\n",
    "xbar = x.mean()\n",
    "\n",
    "# Anzahl Bootstrap Samples\n",
    "nboot = 20\n",
    "\n",
    "# Erzeuge Bootstrap Samples\n",
    "bootstrap_samples = np.random.choice(x, n*nboot, replace=True)\n",
    "\n",
    "bootstrap_sample_array = np.reshape(bootstrap_samples, (n, nboot))\n",
    "\n",
    "# Arithmetisches Mittel für jedes Bootstrap Sample\n",
    "xbarstar = bootstrap_sample_array.mean(axis=0)\n",
    "\n",
    "# 2.5% und 97.5% Quantile der Mittelwerte der 100 Bootstrap Samples\n",
    "ci = np.percentile(xbarstar, q=[2.5, 97.5])\n",
    "print(\"Vertrauensintervall: \",ci)"
   ]
  },
  {
   "cell_type": "markdown",
   "metadata": {},
   "source": [
    "Das wahre $ \\mu $ liegt in diesem Intervall. Ist dies aber immer der Fall? Wir generieren nun 100 Testreihen, wobei jede Testreihe 100 normalverteilte Zufallszahlen mit Mittelwert 40 enthält. Wir bestimmen für jede Testreihe das Vertrauensintervall und schauen, ob das wahre $ \\mu $ darin liegt. "
   ]
  },
  {
   "cell_type": "code",
   "execution_count": 21,
   "metadata": {},
   "outputs": [
    {
     "name": "stdout",
     "output_type": "stream",
     "text": [
      "(100, 100)\n",
      "100\n",
      "96\n"
     ]
    }
   ],
   "source": [
    "import numpy as np\n",
    "np.random.seed(8)\n",
    "# Wir erzeugen 10'000 normalverteilte Zufallszahlen \n",
    "# mit Mittelwert 40 und Standardabweichung 5\n",
    "x = np.random.normal(loc=40, scale=5, size=10000)\n",
    "\n",
    "# Wir ordnen diese Zahlen in einem Array an, der aus 1'000 Zeilen \n",
    "# und 100 Spalten besteht\n",
    "measurement_array = np.reshape(x,(100,100))\n",
    "print(measurement_array.shape)\n",
    "print(measurement_array[1].size)\n",
    "\n",
    "# Anzahl Bootstrap Samples\n",
    "nboot = 1000\n",
    "\n",
    "# Länge von jedem Bootstrap sample\n",
    "n = 100\n",
    "\n",
    "# k zählt Anzahl Vertrauensintervalle, die das \n",
    "# wahre mu=40 nicht enthalten\n",
    "k=0\n",
    "# Wir iterieren über alle 100 Testreihen und bestimmen für jede \n",
    "# Testreihe ein Vertrauensintervall (mittels bootstrap)\n",
    "for i in range(0,100):\n",
    "    x = measurement_array[i]\n",
    "    # Arithmetisches Mittel pro Zeile im Array wird berechnet\n",
    "    xbar = x.mean()\n",
    "    # für die Zeile x wird nun ein Vertrauensintervall\n",
    "    # mittels Bootstrap konstruiert\n",
    "    bootstrap_samples = np.random.choice(x, n*nboot, replace=True)\n",
    "    bootstrap_sample_array = np.reshape(bootstrap_samples, (n, nboot))\n",
    "    xbarstar = bootstrap_sample_array.mean(axis=0)\n",
    "    ci = np.percentile(xbarstar, q=[2.5, 97.5])\n",
    "    # Falls 40 im Vertrauensintervall für Zeile i NICHT enthalten ist\n",
    "    # wird k um 1 erhöht\n",
    "    if ci[0]<= 40 <= ci[1]:\n",
    "        k=k+1\n",
    "    \n",
    "print(k)"
   ]
  },
  {
   "cell_type": "markdown",
   "metadata": {},
   "source": [
    "Wir können dies auch noch graphisch darstellen. Wir bestimmen für jede Testreihe ein 95% Bootstrap-Vertrauensintervall. Zudem ist das wahre Mittel $ \\mu=40 $ eingezeichnet. Wir sehen, dass vier Vertrauensintervalle (schwarz eingezeichnet) die horizontale Linie 40 nicht schneidet. Diese Vertrauensintervalle enthalten somit das wahre Mittel _nicht_. Daher ist das wahre Mittel in 96% aller 95%-Vertrauensintervalle enthalten. "
   ]
  },
  {
   "cell_type": "code",
   "execution_count": 25,
   "metadata": {},
   "outputs": [
    {
     "name": "stdout",
     "output_type": "stream",
     "text": [
      "(100, 100)\n"
     ]
    },
    {
     "data": {
      "image/png": "[encoded data removed]",
      "text/plain": [
       "<Figure size 432x288 with 1 Axes>"
      ]
     },
     "metadata": {
      "needs_background": "light"
     },
     "output_type": "display_data"
    }
   ],
   "source": [
    "import numpy as np\n",
    "import matplotlib.pyplot as plt\n",
    "%matplotlib inline  \n",
    "np.random.seed(8)\n",
    "\n",
    "# Wir generieren 10'000 normalverteilte Zufallszahlen\n",
    "# mit Mittelwert 40 und Standardabweichung 5\n",
    "x = np.random.normal(loc=40, scale=5, size=10000)\n",
    "\n",
    "# Wir ordnen die Zufallszahlen in einem array mit 100 Spalten\n",
    "# und 100 Zeilen an\n",
    "measurement_array = np.reshape(x,(100,100))\n",
    "print(measurement_array.shape)\n",
    "\n",
    "# Anzahl Bootstrap Samples\n",
    "nboot = 10000\n",
    "n = 100\n",
    "\n",
    "# Wir iterieren über die 100 Testreihen\n",
    "for i in range(0,100):\n",
    "    # wir lesen die i-te Zeile aus dem measurement_array heraus\n",
    "    y = measurement_array[i]\n",
    "    # Bestimmung des Vertrauensintervalls der i-ten Testreihe\n",
    "    tmpdata = np.random.choice(y, n*nboot, replace=True)\n",
    "    bootstrapsample = np.reshape(tmpdata, (n, nboot))\n",
    "    xbarstar = bootstrapsample.mean(axis=0)\n",
    "    ci = np.percentile(xbarstar, q=[2.5, 97.5])\n",
    "    plt.plot([i,i],[ci[0], ci[1]])\n",
    "    if (ci[0]<= 40 <= ci[1])==False:\n",
    "        plt.plot([i,i],[ci[0], ci[1]], c=\"black\",linewidth=3)\n",
    "\n",
    "\n",
    "plt.plot([-5,105],[40,40])\n",
    "\n",
    "plt.show()\n",
    "  "
   ]
  }
 ],
 "metadata": {
  "anaconda-cloud": {},
  "kernelspec": {
   "display_name": "Python 3",
   "language": "python",
   "name": "python3"
  },
  "language_info": {
   "codemirror_mode": {
    "name": "ipython",
    "version": 3
   },
   "file_extension": ".py",
   "mimetype": "text/x-python",
   "name": "python",
   "nbconvert_exporter": "python",
   "pygments_lexer": "ipython3",
   "version": "3.6.5"
  }
 },
 "nbformat": 4,
 "nbformat_minor": 1
}
